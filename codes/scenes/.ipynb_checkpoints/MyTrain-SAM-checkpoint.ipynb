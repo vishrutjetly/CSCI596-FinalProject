{
 "cells": [
  {
   "cell_type": "code",
   "execution_count": 1,
   "id": "c57ddfb3",
   "metadata": {},
   "outputs": [],
   "source": [
    "import sys, os, argparse, shutil, inspect\n",
    "\n",
    "import numpy as np\n",
    "import tensorflow as tf\n",
    "from tensorflow import keras\n",
    "\n",
    "import tf_datasets\n",
    "# import tf_network\n",
    "\n",
    "import logging, pickle\n",
    "\n",
    "import matplotlib\n",
    "import matplotlib.pyplot as plt\n",
    "from matplotlib.backends.backend_pdf import PdfPages"
   ]
  },
  {
   "cell_type": "code",
   "execution_count": 2,
   "id": "ca8b8d42",
   "metadata": {},
   "outputs": [],
   "source": [
    "sys.argv = ['scenes/tf_train.py', '--mve', '-o', '/tmp/tfmodel/', '../training_data/Original/tdata/']"
   ]
  },
  {
   "cell_type": "code",
   "execution_count": 3,
   "id": "6fecef18",
   "metadata": {},
   "outputs": [],
   "source": [
    "parser = argparse.ArgumentParser(description='Generate Training Data', formatter_class=argparse.ArgumentDefaultsHelpFormatter)\n",
    "parser.add_argument('-o', '--output', default='/tmp/tfmodel/',   help='output directory')\n",
    "parser.add_argument('-l', '--load',   action=\"store_true\",       help='load and resume the training')\n",
    "parser.add_argument(      '--lstep',  default=100,   type=int,   help='log summary; e.g., every 10th steps')\n",
    "parser.add_argument('-s', '--steps',  default=10000, type=int,   help='maximum training steps')\n",
    "parser.add_argument('-b', '--batch',  default=5000,  type=int,   help='batch size for one step training')\n",
    "parser.add_argument('-t', '--ftest',  default=0.25,  type=float, help='fraction for the test data set')\n",
    "parser.add_argument('-d', '--dnet',   default='27-34-2',         help='detection networks int-int-...')\n",
    "parser.add_argument('-m', '--mnet',   default='27-34-2',         help='modification networks int-int-...')\n",
    "parser.add_argument(      '--dact',   default='none-tanh-tanh',  help='activation function for detection networks')\n",
    "parser.add_argument(      '--mact',   default='none-tanh-tanh',  help='activation function for modification networks')\n",
    "parser.add_argument(      '--stats',  action=\"store_true\",       help='write the stats')\n",
    "parser.add_argument('-v', '--mve',    action=\"store_true\",       help='turn on mean-variance learning')\n",
    "parser.add_argument(      '--nosmax', action=\"store_true\",       help='do not use the softmax model')\n",
    "parser.add_argument('-r', '--decay',  default=0.1,   type=float, help='regularization coefficient')\n",
    "parser.add_argument(      '--ddrop',  default=0.1,   type=float, help='dropout rate (detection)')\n",
    "parser.add_argument(      '--mdrop',  default=0.1,   type=float, help='dropout rate (modification)')\n",
    "parser.add_argument('datadirs', action=\"store\", nargs=\"+\",       help='path(s) to the training data')\n",
    "pargs = parser.parse_args()"
   ]
  },
  {
   "cell_type": "code",
   "execution_count": 4,
   "id": "d4cd6da3",
   "metadata": {},
   "outputs": [],
   "source": [
    "# pargs.dnet = \"27-34-17-2\"\n",
    "# pargs.mnet = \"27-34-17-2\"\n",
    "# pargs.dact = \"none-tanh-tanh-tanh\"\n",
    "# pargs.mact = \"none-tanh-tanh-tanh\"\n",
    "\n",
    "pargs.output = \"models/SAM/\"\n",
    "pargs.dnet = \"27-34-2\"\n",
    "pargs.mnet = \"27-34-2\"\n",
    "pargs.dact = \"none-tanh-tanh\"\n",
    "pargs.mact = \"none-tanh-tanh\""
   ]
  },
  {
   "cell_type": "code",
   "execution_count": 5,
   "id": "89425a50",
   "metadata": {},
   "outputs": [
    {
     "name": "stderr",
     "output_type": "stream",
     "text": [
      "tensorflow-2.5.0 (/usr/local/lib/python3.8/dist-packages/tensorflow/include, /usr/local/lib/python3.8/dist-packages/tensorflow)\n",
      "Namespace(batch=5000, dact='none-tanh-tanh', datadirs=['../training_data/Original/tdata/'], ddrop=0.1, decay=0.1, dnet='27-34-2', ftest=0.25, load=False, lstep=100, mact='none-tanh-tanh', mdrop=0.1, mnet='27-34-2', mve=True, nosmax=False, output='models/SAM', stats=False, steps=10000)\n",
      "8376 tuples have been loaded; randomly selected 6282 for the training set and 2094 for the test set\n",
      "{'inputs': 3.7656653, 'labels': 1.0, 'modvel': 2.749637}\n"
     ]
    }
   ],
   "source": [
    "pargs.output = os.path.normpath(pargs.output)\n",
    "os.path.isdir(pargs.output) or os.makedirs(pargs.output)\n",
    "\n",
    "shutil.copy(inspect.stack()[-1][1], pargs.output+'/')\n",
    "with open(pargs.output+'/run_args.pickle', 'wb') as f: \n",
    "    pickle.dump(vars(pargs), f)\n",
    "with open(pargs.output+'/run_cmd.txt', 'w') as f: \n",
    "    f.write(' '.join(os.uname()) + '\\n' + ' '.join(sys.argv))\n",
    "\n",
    "data_sets, N_tuple = tf_datasets.read_data_sets(dirs=sorted(pargs.datadirs), use_softmax=(not pargs.nosmax), frac_test=pargs.ftest)\n",
    "scale = { i: max(abs(data_sets.train.get_data()[i].min()), abs(data_sets.train.get_data()[i].max())) for i in data_sets.train.get_data() }\n",
    "with open(pargs.output+'/scale.pickle', 'wb') as f: \n",
    "    pickle.dump(scale, f)\n",
    "\n",
    "logging.basicConfig(filename='{}/training-info.log'.format(pargs.output), level=logging.INFO)\n",
    "logging.getLogger().addHandler(logging.StreamHandler())\n",
    "logging.info('tensorflow-{} ({}, {})'.format(tf.__version__, tf.sysconfig.get_include(), tf.sysconfig.get_lib()))\n",
    "logging.info(pargs)\n",
    "logging.info('{} tuples have been loaded; randomly selected {} for the training set and {} for the test set'.format(\n",
    "    N_tuple, data_sets.train._num_examples, data_sets.test._num_examples))\n",
    "logging.info(scale)"
   ]
  },
  {
   "cell_type": "code",
   "execution_count": 6,
   "id": "3da229ab",
   "metadata": {},
   "outputs": [],
   "source": [
    "# statistics\n",
    "if pargs.stats and (not pargs.load):\n",
    "    with PdfPages(pargs.output+'/histogram.pdf') as pdf, open(pargs.output+'/dataset_stats.pickle', 'wb') as log:\n",
    "        l = data_sets.train.get_data()['labels']\n",
    "        if not pargs.nosmax: l = l[:,0]\n",
    "        dataset_stats = {}\n",
    "        for i in sorted(data_sets.train.get_data()):\n",
    "            d = data_sets.train.get_data()[i][(l==1).reshape(-1)] # only splash particles\n",
    "            dataset_stats[i] = [None]*d.shape[1]\n",
    "            for j in range(d.shape[1]):\n",
    "                d_row = d[:,j].reshape(-1)\n",
    "                dataset_stats[i][j] = { 'mean': np.mean(d_row), 'std': np.std(d_row), 'min': np.amin(d_row), 'max': np.amax(d_row) }\n",
    "                plt.figure()\n",
    "                plt.hist(d_row, bins='auto')\n",
    "                plt.title('Histogram of {}[{}]'.format(i, j))\n",
    "                plt.savefig(pdf, format='pdf')\n",
    "                plt.close()\n",
    "\n",
    "        pickle.dump(dataset_stats, log)"
   ]
  },
  {
   "cell_type": "code",
   "execution_count": 7,
   "id": "00b19a84",
   "metadata": {},
   "outputs": [],
   "source": [
    "# tf.set_random_seed(1)\n",
    "tf.random.set_seed(1)\n",
    "\n",
    "def parse_act(act):\n",
    "    if act == 'tanh':    return tf.nn.tanh\n",
    "    if act == 'sigmoid': return tf.nn.sigmoid\n",
    "    if act == 'relu':    return tf.nn.relu\n",
    "    return tf.nn.tanh"
   ]
  },
  {
   "cell_type": "code",
   "execution_count": 8,
   "id": "f064a529",
   "metadata": {},
   "outputs": [],
   "source": [
    "# # init_weights = { 'w': {'mean': float, 'stddev': float}, 'b': {'value': float} }\n",
    "# def weight_variable(shape, init_weights=None):\n",
    "#     params = dict(shape=shape)\n",
    "#     if init_weights and 'w' in init_weights: params.update(init_weights['w'])\n",
    "#     initial = tf.truncated_normal(**params)\n",
    "#     return tf.Variable(initial)"
   ]
  },
  {
   "cell_type": "code",
   "execution_count": 9,
   "id": "ea8147e5",
   "metadata": {},
   "outputs": [],
   "source": [
    "# def bias_variable(shape, init_weights=None):\n",
    "#     params = dict(value=0.1, shape=shape)\n",
    "#     if init_weights and 'b' in init_weights: params.update(init_weights['b'])\n",
    "#     initial = tf.constant(**params)\n",
    "#     return tf.Variable(initial)"
   ]
  },
  {
   "cell_type": "code",
   "execution_count": 10,
   "id": "12c1bee1",
   "metadata": {},
   "outputs": [],
   "source": [
    "# def variable_summaries(var, name):\n",
    "#     \"\"\"Attach a lot of summaries to a Tensor.\"\"\"\n",
    "#     with tf.name_scope('summaries'):\n",
    "#         mean = tf.reduce_mean(var)\n",
    "#         tf.summary.scalar(name='mean/' + name, tensor=mean)\n",
    "#         with tf.name_scope('stddev'):\n",
    "#             stddev = tf.sqrt(tf.reduce_sum(tf.square(var - mean)))\n",
    "\n",
    "#         tf.summary.scalar(name='stddev/' + name, tensor=stddev)\n",
    "#         tf.summary.scalar(name='max/' + name, tensor=tf.reduce_max(var))\n",
    "#         tf.summary.scalar(name='min/' + name, tensor=tf.reduce_min(var))\n",
    "#         tf.summary.histogram(name=name, values=var)"
   ]
  },
  {
   "cell_type": "code",
   "execution_count": 11,
   "id": "19b8e6c6",
   "metadata": {},
   "outputs": [],
   "source": [
    "# def nn_layer(input_tensor, input_dim, output_dim, layer_name,\n",
    "#              init_weights=None, drop=None, bn=False, is_training=True, act=tf.nn.tanh):\n",
    "    \n",
    "#     x = keras.layers.Dense(input_dim, activation=act)(input_tensor)    \n",
    "#     if bn:\n",
    "#         x = layers.BatchNormalization(momentum=0.99, #0.999 \n",
    "#             epsilon=0.001, # 1e-4\n",
    "#          )(x)\n",
    "        \n",
    "#     x = keras.layers.Dropout(drop)(x)\n",
    "    \n",
    "#     return x"
   ]
  },
  {
   "cell_type": "code",
   "execution_count": 12,
   "id": "0eb5e4ec",
   "metadata": {},
   "outputs": [],
   "source": [
    "# def build_network(layers, layers_act=None, input_x_holder=None, input_y_holder=None, dropout_holder=None,\n",
    "#                   init_weights=None, bn=False, is_training=True, scope=''):\n",
    "#     with tf.name_scope('{}input'.format(scope)):\n",
    "#         x  =  input_x_holder\n",
    "#         y_ = input_y_holder\n",
    "\n",
    "#     lp = x\n",
    "\n",
    "#     for i in range(1, len(layers)-1):\n",
    "#         lp = nn_layer(input_tensor=lp, input_dim=layers[i-1], output_dim=layers[i], layer_name='{}layer{}'.format(scope, i),\n",
    "#                       init_weights=init_weights, drop=dropout_holder, bn=bn, is_training=is_training,\n",
    "#                       act=layers_act[i] if layers_act else tf.nn.tanh)\n",
    "\n",
    "#     y = nn_layer(input_tensor=lp, input_dim=layers[i], output_dim=layers[i+1], layer_name='{}layer_full'.format(scope),\n",
    "#                  init_weights=init_weights, drop=dropout_holder, bn=bn, is_training=is_training,\n",
    "#                  act=layers_act[i+1] if layers_act else tf.nn.tanh)\n",
    "\n",
    "#     return x, y_, y"
   ]
  },
  {
   "cell_type": "code",
   "execution_count": 13,
   "id": "1026a5ed",
   "metadata": {},
   "outputs": [],
   "source": [
    "# logging.info('Neural network structure: detection {} and modification {}'.format(pargs.dnet, pargs.mnet))\n",
    "# dlayers    = list(map(int, pargs.dnet.split('-')))\n",
    "# mlayers    = list(map(int, pargs.mnet.split('-')))\n",
    "# dact       = list(map(tf_network.parse_act, pargs.dact.split('-')))\n",
    "# mact       = list(map(tf_network.parse_act, pargs.mact.split('-')))\n",
    "# init_w     = {'w': {'stddev': 0.1}, 'b': {'value': 0.5}}\n",
    "# # x          = tf.placeholder(tf.float32, shape=[None, dlayers[0]], name='x-input')\n",
    "# # keep_prob  = tf.placeholder(tf.float32, name='keep_prob_detector') if pargs.ddrop>0.0 else None\n",
    "# # keep_prob2 = tf.placeholder(tf.float32, name='keep_prob_modifier') if pargs.mdrop>0.0 else None\n",
    "# y_,  y     = tf_network.build_network(dlayers, dact, init_weights=init_w, input_x_holder=x, dropout_holder=keep_prob,  bn=True, scope='detector/')[1:]\n",
    "# y2_, y2    = tf_network.build_network(mlayers, mact, init_weights=init_w, input_x_holder=x, dropout_holder=keep_prob2, bn=True, scope='modifier/')[1:]\n",
    "# if pargs.mve:\n",
    "#     s      = tf_network.build_network(mlayers, mact, init_weights=init_w, input_x_holder=x, input_y_holder=y2_, dropout_holder=keep_prob2, bn=True, scope='modifier_var/')[2]\n",
    "\n",
    "# global_step = tf.Variable(0, trainable=False, name='global_step')"
   ]
  },
  {
   "cell_type": "code",
   "execution_count": 15,
   "id": "2cf1b2d4",
   "metadata": {},
   "outputs": [
    {
     "name": "stderr",
     "output_type": "stream",
     "text": [
      "Neural network structure: detection 27-34-2 and modification 27-34-2\n"
     ]
    }
   ],
   "source": [
    "logging.info('Neural network structure: detection {} and modification {}'.format(pargs.dnet, pargs.mnet))\n",
    "dlayers    = list(map(int, pargs.dnet.split('-')))\n",
    "mlayers    = list(map(int, pargs.mnet.split('-')))\n",
    "# dact       = list(map(tf_network.parse_act, pargs.dact.split('-')))\n",
    "# mact       = list(map(tf_network.parse_act, pargs.mact.split('-')))\n",
    "# init_w     = {'w': {'stddev': 0.1}, 'b': {'value': 0.5}}"
   ]
  },
  {
   "cell_type": "code",
   "execution_count": 16,
   "id": "922d1cb0",
   "metadata": {},
   "outputs": [
    {
     "ename": "NameError",
     "evalue": "name 'tf_network' is not defined",
     "output_type": "error",
     "traceback": [
      "\u001b[0;31m---------------------------------------------------------------------------\u001b[0m",
      "\u001b[0;31mNameError\u001b[0m                                 Traceback (most recent call last)",
      "\u001b[0;32m<ipython-input-16-e81ab08cecbc>\u001b[0m in \u001b[0;36m<module>\u001b[0;34m\u001b[0m\n\u001b[1;32m     20\u001b[0m \u001b[0;34m\u001b[0m\u001b[0m\n\u001b[1;32m     21\u001b[0m \u001b[0;34m\u001b[0m\u001b[0m\n\u001b[0;32m---> 22\u001b[0;31m \u001b[0my_\u001b[0m\u001b[0;34m,\u001b[0m  \u001b[0my\u001b[0m     \u001b[0;34m=\u001b[0m \u001b[0mtf_network\u001b[0m\u001b[0;34m.\u001b[0m\u001b[0mbuild_network\u001b[0m\u001b[0;34m(\u001b[0m\u001b[0mdlayers\u001b[0m\u001b[0;34m,\u001b[0m \u001b[0mdact\u001b[0m\u001b[0;34m,\u001b[0m \u001b[0minit_weights\u001b[0m\u001b[0;34m=\u001b[0m\u001b[0minit_w\u001b[0m\u001b[0;34m,\u001b[0m \u001b[0minput_x_holder\u001b[0m\u001b[0;34m=\u001b[0m\u001b[0mx\u001b[0m\u001b[0;34m,\u001b[0m \u001b[0mdropout_holder\u001b[0m\u001b[0;34m=\u001b[0m\u001b[0mpargs\u001b[0m\u001b[0;34m.\u001b[0m\u001b[0mddrop\u001b[0m\u001b[0;34m,\u001b[0m \u001b[0mbn\u001b[0m\u001b[0;34m=\u001b[0m\u001b[0;32mTrue\u001b[0m\u001b[0;34m,\u001b[0m \u001b[0mscope\u001b[0m\u001b[0;34m=\u001b[0m\u001b[0;34m'detector/'\u001b[0m\u001b[0;34m)\u001b[0m\u001b[0;34m[\u001b[0m\u001b[0;36m1\u001b[0m\u001b[0;34m:\u001b[0m\u001b[0;34m]\u001b[0m\u001b[0;34m\u001b[0m\u001b[0;34m\u001b[0m\u001b[0m\n\u001b[0m\u001b[1;32m     23\u001b[0m \u001b[0my2_\u001b[0m\u001b[0;34m,\u001b[0m \u001b[0my2\u001b[0m    \u001b[0;34m=\u001b[0m \u001b[0mtf_network\u001b[0m\u001b[0;34m.\u001b[0m\u001b[0mbuild_network\u001b[0m\u001b[0;34m(\u001b[0m\u001b[0mmlayers\u001b[0m\u001b[0;34m,\u001b[0m \u001b[0mmact\u001b[0m\u001b[0;34m,\u001b[0m \u001b[0minit_weights\u001b[0m\u001b[0;34m=\u001b[0m\u001b[0minit_w\u001b[0m\u001b[0;34m,\u001b[0m \u001b[0minput_x_holder\u001b[0m\u001b[0;34m=\u001b[0m\u001b[0mx\u001b[0m\u001b[0;34m,\u001b[0m \u001b[0mdropout_holder\u001b[0m\u001b[0;34m=\u001b[0m\u001b[0mpargs\u001b[0m\u001b[0;34m.\u001b[0m\u001b[0mmdrop\u001b[0m\u001b[0;34m,\u001b[0m \u001b[0mbn\u001b[0m\u001b[0;34m=\u001b[0m\u001b[0;32mTrue\u001b[0m\u001b[0;34m,\u001b[0m \u001b[0mscope\u001b[0m\u001b[0;34m=\u001b[0m\u001b[0;34m'modifier/'\u001b[0m\u001b[0;34m)\u001b[0m\u001b[0;34m[\u001b[0m\u001b[0;36m1\u001b[0m\u001b[0;34m:\u001b[0m\u001b[0;34m]\u001b[0m\u001b[0;34m\u001b[0m\u001b[0;34m\u001b[0m\u001b[0m\n\u001b[1;32m     24\u001b[0m \u001b[0;34m\u001b[0m\u001b[0m\n",
      "\u001b[0;31mNameError\u001b[0m: name 'tf_network' is not defined"
     ]
    }
   ],
   "source": [
    "x = keras.Input(shape=(dlayers[0],))\n",
    "\n",
    "\n",
    "def build_network(layers, layers_act=None, input_x_holder=None, input_y_holder=None, dropout_holder=None,\n",
    "                  init_weights=None, bn=False, is_training=True, scope=''):\n",
    "    lp = x\n",
    "\n",
    "    for i in range(1, len(layers)-1):\n",
    "        lp = nn_layer(input_tensor=lp, input_dim=layers[i-1], output_dim=layers[i], layer_name='{}layer{}'.format(scope, i),\n",
    "                      init_weights=init_weights, keep_prob=dropout_holder, bn=bn, is_training=is_training,\n",
    "                      act=layers_act[i] if layers_act else tf.nn.tanh)\n",
    "\n",
    "    y = nn_layer(input_tensor=lp, input_dim=layers[i], output_dim=layers[i+1], layer_name='{}layer_full'.format(scope),\n",
    "                 init_weights=init_weights, keep_prob=dropout_holder, bn=bn, is_training=is_training,\n",
    "                 act=layers_act[i+1] if layers_act else tf.nn.tanh)\n",
    "\n",
    "    print(layers)\n",
    "\n",
    "    return x, y_, y\n",
    "\n",
    "\n",
    "y_,  y     = tf_network.build_network(dlayers, dact, init_weights=init_w, input_x_holder=x, dropout_holder=pargs.ddrop, bn=True, scope='detector/')[1:]\n",
    "y2_, y2    = tf_network.build_network(mlayers, mact, init_weights=init_w, input_x_holder=x, dropout_holder=pargs.mdrop, bn=True, scope='modifier/')[1:]\n",
    "\n",
    "if pargs.mve:\n",
    "    s      = tf_network.build_network(mlayers, mact, init_weights=init_w, input_x_holder=x, input_y_holder=y2_, dropout_holder=pargs.mdrop, bn=True, scope='modifier_var/')[2]\n"
   ]
  },
  {
   "cell_type": "code",
   "execution_count": 17,
   "id": "e7fb92a5",
   "metadata": {},
   "outputs": [],
   "source": [
    "# ################################################################################\n",
    "# # evaluation functions\n",
    "# log_dict = {}\n",
    "# with tf.name_scope('accuracy'):\n",
    "#     with tf.name_scope('correct_prediction'):\n",
    "#         if pargs.nosmax: corr, appx = tf.cast(tf.less(y_, 0.5), tf.int64), tf.cast(tf.less(y, 0.5), tf.int64) # f: splashing, t: non-splashing\n",
    "#         else:            corr, appx = tf.argmax(y_, 1), tf.argmax(y, 1)                                       # 0: splashing, 1: non-splashing\n",
    "\n",
    "#         correct_prediction = tf.equal(corr, appx)\n",
    "#         accuracy           = tf.reduce_mean(tf.cast(correct_prediction, tf.float32))\n",
    "#         y_b_appx           = tf.equal(appx, 0) # true: splashing, false: non-splashing\n",
    "#         y_b_corr           = tf.equal(corr, 0)\n",
    "\n",
    "#         N_corr_non_splas    = tf.reduce_sum(corr)\n",
    "#         N_corr_splashing    = tf.cast(tf.shape(y_)[0], tf.int64) - N_corr_non_splas\n",
    "#         diff_appx_corr      = tf.math.logical_xor(y_b_appx, y_b_corr)\n",
    "#         N_corr_spl_appx_non = tf.reduce_sum(tf.cast(tf.logical_and(y_b_corr, diff_appx_corr), tf.float32))\n",
    "#         N_corr_non_appx_spl = tf.reduce_sum(tf.cast(tf.logical_and(y_b_appx, diff_appx_corr), tf.float32))\n",
    "#         false_negative      = N_corr_spl_appx_non/tf.cast(N_corr_splashing, tf.float32)\n",
    "#         false_positive      = N_corr_non_appx_spl/tf.cast(N_corr_non_splas, tf.float32)\n",
    "\n",
    "#         log_dict['accuracy']                     = accuracy\n",
    "#         log_dict['false_negative_corr_T_appx_F'] = false_negative\n",
    "#         log_dict['false_positive_corr_F_appx_T'] = false_positive\n",
    "#         log_dict['splashes/corr']                = 1.0 - tf.reduce_mean(tf.cast(corr, tf.float32))\n",
    "#         log_dict['splashes/appx']                = 1.0 - tf.reduce_mean(tf.cast(appx, tf.float32))\n",
    "\n",
    "#     with tf.name_scope('loss'):\n",
    "#         with tf.GradientTape() as tape:\n",
    "#             loss_normalizer = 1.0/tf.cast(tf.shape(y2_)[0], tf.float32)\n",
    "\n",
    "#             with tf.name_scope('detector'):\n",
    "#                 if pargs.nosmax: loss_detector = tf.nn.l2_loss(y - y_)\n",
    "#                 else:            loss_detector = tf.reduce_mean(tf.nn.softmax_cross_entropy_with_logits(labels=y_, logits=y))\n",
    "#                 log_dict['detector/loss'] = loss_detector*loss_normalizer if pargs.nosmax else loss_detector\n",
    "\n",
    "#             with tf.name_scope('modifier'):\n",
    "#                 loss_modifier = tf.nn.l2_loss(y2 - y2_)\n",
    "#                 log_dict['modifier/loss'] = loss_modifier*loss_normalizer\n",
    "#                 if pargs.mve:\n",
    "#                     loss_modifier_mve = 0.5*tf.reduce_sum(((y2 - y2_)**2)/(s**2 + 1e-9)) + 0.5*tf.reduce_sum(tf.math.log(s**2 + 1e-9)) # mean variance estimate\n",
    "#                     log_dict['modifier_mve/loss'] = loss_modifier_mve*loss_normalizer\n",
    "\n",
    "#             loss = loss_detector + loss_modifier\n",
    "#             log_dict['sum_loss'] = log_dict['detector/loss'] + log_dict['modifier/loss']\n",
    "#             if pargs.mve:\n",
    "#                 loss_mve = loss_detector + loss_modifier_mve\n",
    "#                 log_dict['sum_loss_mve'] = log_dict['detector/loss'] + log_dict['modifier_mve/loss']\n",
    "\n",
    "#             if pargs.decay>0.0:\n",
    "#                 w_detector     = tf.compat.v1.get_collection(tf.compat.v1.GraphKeys.TRAINABLE_VARIABLES, \"detector/\")\n",
    "#                 w_modifier     = tf.compat.v1.get_collection(tf.compat.v1.GraphKeys.TRAINABLE_VARIABLES, \"modifier/\")\n",
    "#                 decay_detector = tf.add_n([tf.nn.l2_loss(v) for v in w_detector])*pargs.decay\n",
    "#                 decay_modifier = tf.add_n([tf.nn.l2_loss(v) for v in w_modifier])*pargs.decay\n",
    "\n",
    "#                 loss += decay_detector + decay_modifier\n",
    "\n",
    "#                 log_dict['detector/decay'] = decay_detector\n",
    "#                 log_dict['modifier/decay'] = decay_modifier\n",
    "#                 log_dict['sum_loss'] += decay_detector + decay_modifier\n",
    "\n",
    "#                 if pargs.mve:\n",
    "#                     w_modifier_var = tf.compat.v1.get_collection(tf.compat.v1.GraphKeys.TRAINABLE_VARIABLES, \"modifier_var/\")\n",
    "#                     decay_modifier_var = tf.add_n([tf.nn.l2_loss(v) for v in w_modifier_var])*pargs.decay\n",
    "#                     loss_mve += decay_modifier_var\n",
    "#                     log_dict['modifier_var/decay'] = decay_modifier_var\n",
    "#                     log_dict['sum_loss_mve'] += decay_modifier_var\n",
    "\n",
    "#     for i in log_dict:\n",
    "#         tf.summary.scalar(name=i, data=log_dict[i])"
   ]
  },
  {
   "cell_type": "code",
   "execution_count": 18,
   "id": "6cd2ba9c",
   "metadata": {},
   "outputs": [],
   "source": [
    "# with tf.name_scope('train'):\n",
    "#     opt = keras.optimizers.Adam(1e-4)\n",
    "#     grads = tape.gradient(loss, [w_detector, w_modifier])\n",
    "#     processed_grads = [process_gradient(g) for g in grads]\n",
    "#     opt.apply_gradients(zip(processed_grads, [w_detector, w_modifier]))\n",
    "    \n",
    "# #     train_step = keras.optimizers.Adam(1e-4).minimize(loss, [w_detector, w_modifier])\n",
    "    \n",
    "#     if pargs.mve: \n",
    "#         opt_mve = keras.optimizers.Adam(1e-4)\n",
    "#         grads_mve = tape.gradient(loss_mve, [w_modifier_var])\n",
    "#         processed_grads_mve = [process_gradient(g) for g in grads_mve]\n",
    "#         opt_mve.apply_gradients(zip(processed_grads_mve, [w_detector, w_modifier]))\n",
    "        \n",
    "# #         train_step_mve = keras.optimizers.Adam(1e-4).minimize(loss_mve, [w_modifier_var])\n",
    "\n",
    "# increment_global_step = tf.assign_add(global_step, 1, name='increment_global_step')"
   ]
  },
  {
   "cell_type": "code",
   "execution_count": 19,
   "id": "0b06c868",
   "metadata": {},
   "outputs": [],
   "source": [
    "def training_model():\n",
    "    inputs = keras.layers.Input(dlayers[0],)\n",
    "    \n",
    "    y1 = keras.layers.Input(dlayers[-1],)\n",
    "    y2 = keras.layers.Input(mlayers[-1],)\n",
    "    \n",
    "    x = inputs\n",
    "    for i in range(1, len(dlayers)-1):\n",
    "        x = keras.layers.Dense(dlayers[i], activation=\"tanh\", \n",
    "                              kernel_initializer=tf.keras.initializers.RandomNormal(mean=0.0, stddev=0.1),\n",
    "                              bias_initializer=tf.keras.initializers.Constant(0.5))(x)    \n",
    "        if 1:\n",
    "            x = keras.layers.BatchNormalization(momentum=0.999, #0.999 \n",
    "                epsilon=0.0001, # 1e-4\n",
    "             )(x)\n",
    "        x = keras.layers.Dropout(0.1)(x)\n",
    "    x = keras.layers.Dense(dlayers[-1], activation=\"tanh\", \n",
    "                          kernel_initializer=tf.keras.initializers.RandomNormal(mean=0.0, stddev=0.1),\n",
    "                          bias_initializer=tf.keras.initializers.Constant(0.5))(x)\n",
    "    x = keras.layers.BatchNormalization(momentum=0.999, #0.999 \n",
    "                epsilon=0.0001, # 1e-4\n",
    "             )(x)\n",
    "    output1 = x\n",
    "    \n",
    "    x = inputs\n",
    "    for i in range(1, len(mlayers)-1):\n",
    "        x = keras.layers.Dense(mlayers[i], activation=\"tanh\", \n",
    "                              kernel_initializer=tf.keras.initializers.RandomNormal(mean=0.0, stddev=0.1),\n",
    "                              bias_initializer=tf.keras.initializers.Constant(0.5))(x)    \n",
    "        if 1:\n",
    "            x = keras.layers.BatchNormalization(momentum=0.999, #0.999 \n",
    "                epsilon=0.0001, # 1e-4\n",
    "             )(x)\n",
    "        x = keras.layers.Dropout(0.1)(x)\n",
    "    x = keras.layers.Dense(mlayers[-1], activation=\"tanh\", \n",
    "                          kernel_initializer=tf.keras.initializers.RandomNormal(mean=0.0, stddev=0.1),\n",
    "                          bias_initializer=tf.keras.initializers.Constant(0.5))(x)\n",
    "    x = keras.layers.BatchNormalization(momentum=0.999, #0.999 \n",
    "                epsilon=0.0001, # 1e-4\n",
    "             )(x)\n",
    "    output2 = x\n",
    "    \n",
    "    x = inputs\n",
    "    for i in range(1, len(mlayers)-1):\n",
    "        x = keras.layers.Dense(mlayers[i], activation=\"tanh\", \n",
    "                          kernel_initializer=tf.keras.initializers.RandomNormal(mean=0.0, stddev=0.1),\n",
    "                          bias_initializer=tf.keras.initializers.Constant(0.5))(x)   \n",
    "        if 1:\n",
    "            x = keras.layers.BatchNormalization(momentum=0.999, #0.999 \n",
    "                epsilon=0.0001, # 1e-4\n",
    "             )(x)\n",
    "        x = keras.layers.Dropout(0.1)(x)\n",
    "    x = keras.layers.Dense(mlayers[-1], activation=\"tanh\", \n",
    "                          kernel_initializer=tf.keras.initializers.RandomNormal(mean=0.0, stddev=0.1),\n",
    "                          bias_initializer=tf.keras.initializers.Constant(0.5))(x)\n",
    "    x = keras.layers.BatchNormalization(momentum=0.999, #0.999 \n",
    "                epsilon=0.0001, # 1e-4\n",
    "             )(x)\n",
    "    output3 = x\n",
    "        \n",
    "    model = keras.Model([inputs, y1, y2], [output1, output2, output3])\n",
    "    return model, y1, y2, output1, output2, output3"
   ]
  },
  {
   "cell_type": "code",
   "execution_count": 20,
   "id": "23146184",
   "metadata": {},
   "outputs": [],
   "source": [
    "# def training_model():\n",
    "#     inputs = keras.layers.Input(dlayers[0],)\n",
    "    \n",
    "#     y1 = keras.layers.Input(dlayers[-1],)\n",
    "#     y2 = keras.layers.Input(mlayers[-1],)\n",
    "    \n",
    "#     x = inputs\n",
    "#     for i in range(1, len(dlayers)-1):\n",
    "#         x = keras.layers.Dense(dlayers[i], activation=\"tanh\")(x)    \n",
    "#         if 1:\n",
    "#             x = keras.layers.BatchNormalization(momentum=0.99, #0.999 \n",
    "#                 epsilon=0.001, # 1e-4\n",
    "#              )(x)\n",
    "#         x = keras.layers.Dropout(0.1)(x)\n",
    "#     x = keras.layers.Dense(dlayers[-1], activation=\"sigmoid\")(x)\n",
    "#     output1 = x\n",
    "    \n",
    "#     x = inputs\n",
    "#     for i in range(1, len(mlayers)-1):\n",
    "#         x = keras.layers.Dense(mlayers[i], activation=\"tanh\")(x)    \n",
    "#         if 1:\n",
    "#             x = keras.layers.BatchNormalization(momentum=0.99, #0.999 \n",
    "#                 epsilon=0.001, # 1e-4\n",
    "#              )(x)\n",
    "#         x = keras.layers.Dropout(0.1)(x)\n",
    "#     x = keras.layers.Dense(mlayers[-1], activation=\"linear\")(x)\n",
    "#     output2 = x\n",
    "    \n",
    "#     x = inputs\n",
    "#     for i in range(1, len(mlayers)-1):\n",
    "#         x = keras.layers.Dense(mlayers[i], activation=\"tanh\")(x)    \n",
    "#         if 1:\n",
    "#             x = keras.layers.BatchNormalization(momentum=0.99, #0.999 \n",
    "#                 epsilon=0.001, # 1e-4\n",
    "#              )(x)\n",
    "#         x = keras.layers.Dropout(0.1)(x)\n",
    "#     x = keras.layers.Dense(mlayers[-1], activation=\"linear\")(x)\n",
    "#     output3 = x\n",
    "        \n",
    "#     model = keras.Model([inputs, y1, y2], [output1, output2, output3])\n",
    "#     return model, y1, y2, output1, output2, output3"
   ]
  },
  {
   "cell_type": "code",
   "execution_count": 21,
   "id": "06981346",
   "metadata": {},
   "outputs": [],
   "source": [
    "def plot_history(history):\n",
    "    plt.plot(history.history[\"loss\"], label=\"Training Loss\")\n",
    "#     plt.plot(history.history[\"val_loss\"], label=\"Validation Loss\")\n",
    "#     plt.plot(history.history[\"accuracy\"], label=\"Training Accuracy\")\n",
    "#     plt.plot(history.history[\"val_accuracy\"], label=\"Validation Accuracy\")\n",
    "    plt.legend()\n",
    "    plt.xscale('log')\n",
    "#     plt.yscale('log')\n",
    "    plt.grid()\n",
    "    plt.savefig(pargs.output+\"/loss.png\", dpi=150)\n",
    "    plt.show()"
   ]
  },
  {
   "cell_type": "code",
   "execution_count": 22,
   "id": "0a90a27a",
   "metadata": {},
   "outputs": [],
   "source": [
    "model_orig, y1, y2, out1, out2, out3 = training_model()"
   ]
  },
  {
   "cell_type": "code",
   "execution_count": 23,
   "id": "9530c4ad",
   "metadata": {},
   "outputs": [
    {
     "name": "stdout",
     "output_type": "stream",
     "text": [
      "Model: \"model\"\n",
      "__________________________________________________________________________________________________\n",
      "Layer (type)                    Output Shape         Param #     Connected to                     \n",
      "==================================================================================================\n",
      "input_2 (InputLayer)            [(None, 27)]         0                                            \n",
      "__________________________________________________________________________________________________\n",
      "dense (Dense)                   (None, 34)           952         input_2[0][0]                    \n",
      "__________________________________________________________________________________________________\n",
      "dense_2 (Dense)                 (None, 34)           952         input_2[0][0]                    \n",
      "__________________________________________________________________________________________________\n",
      "dense_4 (Dense)                 (None, 34)           952         input_2[0][0]                    \n",
      "__________________________________________________________________________________________________\n",
      "batch_normalization (BatchNorma (None, 34)           136         dense[0][0]                      \n",
      "__________________________________________________________________________________________________\n",
      "batch_normalization_2 (BatchNor (None, 34)           136         dense_2[0][0]                    \n",
      "__________________________________________________________________________________________________\n",
      "batch_normalization_4 (BatchNor (None, 34)           136         dense_4[0][0]                    \n",
      "__________________________________________________________________________________________________\n",
      "dropout (Dropout)               (None, 34)           0           batch_normalization[0][0]        \n",
      "__________________________________________________________________________________________________\n",
      "dropout_1 (Dropout)             (None, 34)           0           batch_normalization_2[0][0]      \n",
      "__________________________________________________________________________________________________\n",
      "dropout_2 (Dropout)             (None, 34)           0           batch_normalization_4[0][0]      \n",
      "__________________________________________________________________________________________________\n",
      "dense_1 (Dense)                 (None, 2)            70          dropout[0][0]                    \n",
      "__________________________________________________________________________________________________\n",
      "dense_3 (Dense)                 (None, 2)            70          dropout_1[0][0]                  \n",
      "__________________________________________________________________________________________________\n",
      "dense_5 (Dense)                 (None, 2)            70          dropout_2[0][0]                  \n",
      "__________________________________________________________________________________________________\n",
      "input_3 (InputLayer)            [(None, 2)]          0                                            \n",
      "__________________________________________________________________________________________________\n",
      "input_4 (InputLayer)            [(None, 2)]          0                                            \n",
      "__________________________________________________________________________________________________\n",
      "batch_normalization_1 (BatchNor (None, 2)            8           dense_1[0][0]                    \n",
      "__________________________________________________________________________________________________\n",
      "batch_normalization_3 (BatchNor (None, 2)            8           dense_3[0][0]                    \n",
      "__________________________________________________________________________________________________\n",
      "batch_normalization_5 (BatchNor (None, 2)            8           dense_5[0][0]                    \n",
      "==================================================================================================\n",
      "Total params: 3,498\n",
      "Trainable params: 3,282\n",
      "Non-trainable params: 216\n",
      "__________________________________________________________________________________________________\n"
     ]
    }
   ],
   "source": [
    "model_orig.summary()"
   ]
  },
  {
   "cell_type": "code",
   "execution_count": 195,
   "id": "af3a6765",
   "metadata": {},
   "outputs": [],
   "source": [
    "# import tensorflow as tf\n",
    "tf.config.run_functions_eagerly(False)\n",
    "\n",
    "class SAMModel(tf.keras.Model):\n",
    "    def __init__(self, model, rho=0.05, loss_stored=[]):\n",
    "        \"\"\"\n",
    "        p, q = 2 for optimal results as suggested in the paper\n",
    "        (Section 2)\n",
    "        \"\"\"\n",
    "        super(SAMModel, self).__init__()\n",
    "        self.model = model\n",
    "        self.rho = rho\n",
    "        self.loss_stored = loss_stored\n",
    "        \n",
    "    def call(self, data):\n",
    "        return self.model(data)\n",
    "#         with tf.GradientTape() as tape:\n",
    "#             predictions = self.model(data)\n",
    "#             loss = self.compiled_loss((data, predictions), predictions)\n",
    "#         return loss\n",
    "\n",
    "    def train_step(self, data):\n",
    "        inputs = data\n",
    "        (inp, y1, y2) = data[0]\n",
    "        labels = y1\n",
    "        e_ws = []\n",
    "        with tf.GradientTape() as tape:\n",
    "            predictions = self.model(data)\n",
    "            [out1, out2, out3] = predictions \n",
    "            \n",
    "            loss_detector = tf.reduce_mean(tf.nn.softmax_cross_entropy_with_logits(labels=y1, logits=out1))\n",
    "            loss_modifier = tf.nn.l2_loss(out2 - y2)\n",
    "\n",
    "            loss_modifier_mve = 0.5*tf.reduce_sum(((out2 - y2)**2)/(out3**2 + 1e-4)) + 0.5*tf.reduce_sum(tf.math.log(out3**2 + 1e-4)) # mean variance estimate\n",
    "\n",
    "            loss = loss_detector + loss_modifier\n",
    "            loss_mve = loss_detector + loss_modifier_mve\n",
    "            loss = loss + loss_mve\n",
    "        \n",
    "        trainable_params = self.model.trainable_variables\n",
    "        gradients = tape.gradient(loss, trainable_params)\n",
    "        grad_norm = self._grad_norm(gradients)\n",
    "        scale = self.rho / (grad_norm + 1e-12)\n",
    "\n",
    "        for (grad, param) in zip(gradients, trainable_params):\n",
    "            e_w = grad * scale\n",
    "            param.assign_add(e_w)\n",
    "            e_ws.append(e_w)\n",
    "\n",
    "        with tf.GradientTape() as tape:\n",
    "            predictions = self.model(data)\n",
    "            [out1, out2, out3] = predictions \n",
    "            \n",
    "            loss_detector = tf.reduce_mean(tf.nn.softmax_cross_entropy_with_logits(labels=y1, logits=out1))\n",
    "            loss_modifier = tf.nn.l2_loss(out2 - y2)\n",
    "\n",
    "            loss_modifier_mve = 0.5*tf.reduce_sum(((out2 - y2)**2)/(out3**2 + 1e-4)) + 0.5*tf.reduce_sum(tf.math.log(out3**2 + 1e-4)) # mean variance estimate\n",
    "\n",
    "            loss = loss_detector + loss_modifier\n",
    "            loss_mve = loss_detector + loss_modifier_mve\n",
    "            loss = loss + loss_mve\n",
    "            \n",
    "            self.loss_stored.append(loss)\n",
    "        \n",
    "        sam_gradients = tape.gradient(loss, trainable_params)\n",
    "        for (param, e_w) in zip(trainable_params, e_ws):\n",
    "            param.assign_sub(e_w)\n",
    "        \n",
    "        self.optimizer.apply_gradients(\n",
    "            zip(sam_gradients, trainable_params))\n",
    "        \n",
    "#         self.compiled_metrics.update_state(labels, predictions)\n",
    "        return {m.name: m.result() for m in self.metrics}\n",
    "\n",
    "    def test_step(self, data):\n",
    "        (inp, y1, y2) = data[0]\n",
    "        predictions = self.model(data, training=False)\n",
    "        [out1, out2, out3] = predictions \n",
    "    \n",
    "        loss_detector = tf.reduce_mean(tf.nn.softmax_cross_entropy_with_logits(labels=y1, logits=out1))\n",
    "        loss_modifier = tf.nn.l2_loss(out2 - y2)\n",
    "\n",
    "        loss_modifier_mve = 0.5*tf.reduce_sum(((out2 - y2)**2)/(out3**2 + 1e-4)) + 0.5*tf.reduce_sum(tf.math.log(out3**2 + 1e-4)) # mean variance estimate\n",
    "\n",
    "        loss = loss_detector + loss_modifier\n",
    "        loss_mve = loss_detector + loss_modifier_mve\n",
    "\n",
    "        loss = loss + loss_mve\n",
    "        \n",
    "#         loss = self.compiled_loss(labels, predictions)\n",
    "#         self.compiled_metrics.update_state(labels, predictions)\n",
    "        return {m.name: m.result() for m in self.metrics}\n",
    "\n",
    "    def _grad_norm(self, gradients):\n",
    "        norm = tf.norm(\n",
    "            tf.stack([\n",
    "                tf.norm(grad) for grad in gradients if grad is not None\n",
    "            ])\n",
    "        )\n",
    "        return norm"
   ]
  },
  {
   "cell_type": "code",
   "execution_count": null,
   "id": "6a4dcba8",
   "metadata": {},
   "outputs": [],
   "source": []
  },
  {
   "cell_type": "code",
   "execution_count": 196,
   "id": "71683107",
   "metadata": {},
   "outputs": [],
   "source": [
    "# model_orig([train_data[\"inputs\"], train_data[\"labels\"], train_data[\"modvel\"]/scale[\"modvel\"]])"
   ]
  },
  {
   "cell_type": "code",
   "execution_count": 197,
   "id": "7c02e277",
   "metadata": {},
   "outputs": [],
   "source": [
    "model = SAMModel(model_orig)"
   ]
  },
  {
   "cell_type": "code",
   "execution_count": 198,
   "id": "6f4d1916",
   "metadata": {},
   "outputs": [],
   "source": [
    "# model([tensor1, tensor2, tensor3])"
   ]
  },
  {
   "cell_type": "code",
   "execution_count": 199,
   "id": "779cff01",
   "metadata": {},
   "outputs": [],
   "source": [
    "# model.compiled_loss([x, tf.keras.layers.Input(2), tf.keras.layers.Input(2)])"
   ]
  },
  {
   "cell_type": "code",
   "execution_count": 200,
   "id": "1a531674",
   "metadata": {},
   "outputs": [
    {
     "data": {
      "image/png": "[encoded data removed]",
      "text/plain": [
       "<IPython.core.display.Image object>"
      ]
     },
     "execution_count": 200,
     "metadata": {},
     "output_type": "execute_result"
    }
   ],
   "source": [
    "tf.keras.utils.plot_model(model_orig, show_shapes=True)"
   ]
  },
  {
   "cell_type": "code",
   "execution_count": 201,
   "id": "5e4dce34",
   "metadata": {},
   "outputs": [],
   "source": [
    "loss_detector = tf.reduce_mean(tf.nn.softmax_cross_entropy_with_logits(labels=y1, logits=out1))\n",
    "loss_modifier = tf.nn.l2_loss(out2 - y2)\n",
    "\n",
    "loss_modifier_mve = 0.5*tf.reduce_sum(((out2 - y2)**2)/(out3**2 + 1e-4)) + 0.5*tf.reduce_sum(tf.math.log(out3**2 + 1e-4)) # mean variance estimate\n",
    "\n",
    "loss = loss_detector + loss_modifier\n",
    "model.add_loss(loss)\n",
    "\n",
    "loss_mve = loss_detector + loss_modifier_mve\n",
    "model.add_loss(loss_mve)"
   ]
  },
  {
   "cell_type": "code",
   "execution_count": 202,
   "id": "1ad784ee",
   "metadata": {},
   "outputs": [],
   "source": [
    "# tf.compat.v1.enable_eager_execution()"
   ]
  },
  {
   "cell_type": "code",
   "execution_count": 203,
   "id": "1099c432",
   "metadata": {},
   "outputs": [],
   "source": [
    "opt = keras.optimizers.Adam(learning_rate=1e-4)\n",
    "model.compile(optimizer=opt\n",
    "#              ,run_eagerly=True\n",
    "             )"
   ]
  },
  {
   "cell_type": "code",
   "execution_count": 204,
   "id": "c034e507",
   "metadata": {},
   "outputs": [],
   "source": [
    "train_data = data_sets.train.get_data()"
   ]
  },
  {
   "cell_type": "code",
   "execution_count": 205,
   "id": "5418142d",
   "metadata": {},
   "outputs": [],
   "source": [
    "savefreq = [1, 10, 100, 1000, 10000,100000]\n",
    "class CustomSaver(keras.callbacks.Callback):\n",
    "    def on_epoch_end(self, epoch, logs={}):\n",
    "        if epoch in savefreq:  # or save after some epoch, each k-th epoch etc.\n",
    "            self.model.model.save(pargs.output + \"/model-{}\".format(epoch))\n",
    "        if epoch % 1000 == 0:\n",
    "            print(epoch)"
   ]
  },
  {
   "cell_type": "code",
   "execution_count": 206,
   "id": "fd021976",
   "metadata": {},
   "outputs": [
    {
     "data": {
      "text/plain": [
       "'models/SAM'"
      ]
     },
     "execution_count": 206,
     "metadata": {},
     "output_type": "execute_result"
    }
   ],
   "source": [
    "pargs.output"
   ]
  },
  {
   "cell_type": "code",
   "execution_count": 207,
   "id": "0807700e",
   "metadata": {},
   "outputs": [],
   "source": [
    "model_checkpoint_callback = tf.keras.callbacks.ModelCheckpoint(\n",
    "    filepath=pargs.output+\"/model-{epoch:06d}\",\n",
    "    save_weights_only=False, save_freq=100)\n",
    "\n",
    "model_checkpoint_callback = CustomSaver()"
   ]
  },
  {
   "cell_type": "code",
   "execution_count": 208,
   "id": "ceea8e37",
   "metadata": {},
   "outputs": [],
   "source": [
    "inputs = [train_data[\"inputs\"], train_data[\"labels\"], train_data[\"modvel\"]/scale[\"modvel\"]]"
   ]
  },
  {
   "cell_type": "code",
   "execution_count": 209,
   "id": "2b972ac9",
   "metadata": {},
   "outputs": [
    {
     "data": {
      "text/plain": [
       "{'inputs': array([[-0.17068496,  0.4027043 , -0.69680023, ...,  0.10940391,\n",
       "         -0.29404616,  0.02719757],\n",
       "        [ 0.05849464,  0.00347824,  0.02131195, ...,  0.70754004,\n",
       "          0.21099249, -0.17094617],\n",
       "        [ 0.01685617,  0.00360909,  0.01341228, ...,  0.8296526 ,\n",
       "          0.13070609,  0.15954313],\n",
       "        ...,\n",
       "        [ 0.15409005, -0.17212169,  0.12631845, ...,  0.22322002,\n",
       "          0.21710435,  0.22631665],\n",
       "        [-0.28755996,  0.13450295, -0.28755996, ...,  0.09922855,\n",
       "         -0.9256965 , -0.09824353],\n",
       "        [ 0.03733248, -0.03818141,  0.03358207, ...,  0.17417565,\n",
       "         -0.02955344, -0.30392572]], dtype=float32),\n",
       " 'labels': array([[0., 1.],\n",
       "        [0., 1.],\n",
       "        [0., 1.],\n",
       "        ...,\n",
       "        [1., 0.],\n",
       "        [1., 0.],\n",
       "        [0., 1.]]),\n",
       " 'modvel': array([[-0.24207886, -0.48731592],\n",
       "        [-0.09503105,  0.01840759],\n",
       "        [-0.00978813, -0.03523953],\n",
       "        ...,\n",
       "        [-0.03151188,  0.02256931],\n",
       "        [-0.19747956, -0.19343984],\n",
       "        [ 0.00856754,  0.0028379 ]], dtype=float32)}"
      ]
     },
     "execution_count": 209,
     "metadata": {},
     "output_type": "execute_result"
    }
   ],
   "source": [
    "train_data"
   ]
  },
  {
   "cell_type": "code",
   "execution_count": 210,
   "id": "b5529146",
   "metadata": {},
   "outputs": [],
   "source": [
    "# history = model.fit([train_data[\"inputs\"], train_data[\"labels\"], train_data[\"modvel\"]/scale[\"modvel\"]], batch_size=5000, epochs=100, verbose=1\n",
    "#                    )"
   ]
  },
  {
   "cell_type": "code",
   "execution_count": 211,
   "id": "1d6d32af",
   "metadata": {},
   "outputs": [],
   "source": [
    "model.build([(None, 27), (None, 2), (None, 2)])"
   ]
  },
  {
   "cell_type": "code",
   "execution_count": null,
   "id": "211e578d",
   "metadata": {
    "scrolled": false
   },
   "outputs": [],
   "source": [
    "# model.fit(x=[train_data[\"inputs\"], train_data[\"labels\"], train_data[\"modvel\"]/scale[\"modvel\"]], batch_size=pargs.batch, epochs=pargs.steps, verbose=1)\n",
    "history = model.fit([train_data[\"inputs\"], train_data[\"labels\"], train_data[\"modvel\"]/scale[\"modvel\"]], batch_size=pargs.batch, epochs=50000, verbose=0\n",
    "                   ,callbacks=[model_checkpoint_callback]\n",
    "                   )"
   ]
  },
  {
   "cell_type": "code",
   "execution_count": 158,
   "id": "10626c6c",
   "metadata": {},
   "outputs": [],
   "source": [
    "# model_orig.compile(optimizer=opt, run_eagerly=True)"
   ]
  },
  {
   "cell_type": "code",
   "execution_count": null,
   "id": "be3687bd",
   "metadata": {},
   "outputs": [],
   "source": [
    "# import keras.layers as layers\n",
    "# class MyModel(keras.Model):\n",
    "#     def train_step(self, data):\n",
    "#         print()\n",
    "#         print(\"----Start of step: %d\" % (self.step_counter,))\n",
    "#         self.step_counter += 1\n",
    "\n",
    "#         inputs, targets = data\n",
    "#         trainable_vars = self.trainable_variables\n",
    "#         with tf.GradientTape() as tape2:\n",
    "#             with tf.GradientTape() as tape1:\n",
    "#                 preds = self(inputs, training=True)  # Forward pass\n",
    "#                 # Compute the loss value\n",
    "#                 # (the loss function is configured in `compile()`)\n",
    "#                 loss = self.compiled_loss(targets, preds)\n",
    "#             # Compute first-order gradients\n",
    "#             dl_dw = tape1.gradient(loss, trainable_vars)\n",
    "#         # Compute second-order gradients\n",
    "#         d2l_dw2 = tape2.gradient(dl_dw, trainable_vars)\n",
    "\n",
    "#         print(\"Max of dl_dw[0]: %.4f\" % tf.reduce_max(dl_dw[0]))\n",
    "#         print(\"Min of dl_dw[0]: %.4f\" % tf.reduce_min(dl_dw[0]))\n",
    "#         print(\"Mean of dl_dw[0]: %.4f\" % tf.reduce_mean(dl_dw[0]))\n",
    "#         print(\"-\")\n",
    "#         print(\"Max of d2l_dw2[0]: %.4f\" % tf.reduce_max(d2l_dw2[0]))\n",
    "#         print(\"Min of d2l_dw2[0]: %.4f\" % tf.reduce_min(d2l_dw2[0]))\n",
    "#         print(\"Mean of d2l_dw2[0]: %.4f\" % tf.reduce_mean(d2l_dw2[0]))\n",
    "\n",
    "#         # Combine first-order and second-order gradients\n",
    "#         grads = [0.5 * w1 + 0.5 * w2 for (w1, w2) in zip(d2l_dw2, dl_dw)]\n",
    "\n",
    "#         # Update weights\n",
    "#         self.optimizer.apply_gradients(zip(grads, trainable_vars))\n",
    "\n",
    "#         # Update metrics (includes the metric that tracks the loss)\n",
    "#         self.compiled_metrics.update_state(targets, preds)\n",
    "#         # Return a dict mapping metric names to current value\n",
    "#         return {m.name: m.result() for m in self.metrics}\n",
    "\n",
    "\n",
    "    \n",
    "# def get_model():\n",
    "#     inputs = keras.Input(shape=(784,))\n",
    "#     intermediate = layers.Dense(256, activation=\"relu\")(inputs)\n",
    "#     outputs = layers.Dense(10, activation=\"softmax\")(intermediate)\n",
    "#     model = MyModel(inputs, outputs)\n",
    "#     return model\n",
    "\n",
    "\n",
    "# # Prepare data\n",
    "# (x_train, y_train), _ = keras.datasets.mnist.load_data()\n",
    "# x_train = np.reshape(x_train, (-1, 784)) / 255\n",
    "\n",
    "# model = get_model()\n",
    "# model.compile(\n",
    "#     optimizer=keras.optimizers.SGD(learning_rate=1e-2),\n",
    "#     loss=\"sparse_categorical_crossentropy\",\n",
    "#     metrics=[\"accuracy\"],\n",
    "#     run_eagerly=True,\n",
    "# )\n",
    "# model.step_counter = 0\n",
    "# # We pass epochs=1 and steps_per_epoch=10 to only run 10 steps of training.\n",
    "# model.fit(x_train, y_train, epochs=1, batch_size=1024, verbose=0, steps_per_epoch=10)"
   ]
  },
  {
   "cell_type": "code",
   "execution_count": 72,
   "id": "0335ec3a",
   "metadata": {},
   "outputs": [
    {
     "name": "stdout",
     "output_type": "stream",
     "text": [
      "WARNING:tensorflow:Compiled the loaded model, but the compiled metrics have yet to be built. `model.compile_metrics` will be empty until you train or evaluate the model.\n"
     ]
    },
    {
     "name": "stderr",
     "output_type": "stream",
     "text": [
      "Compiled the loaded model, but the compiled metrics have yet to be built. `model.compile_metrics` will be empty until you train or evaluate the model.\n"
     ]
    },
    {
     "name": "stdout",
     "output_type": "stream",
     "text": [
      "INFO:tensorflow:Assets written to: models/SAM/model/assets\n"
     ]
    },
    {
     "name": "stderr",
     "output_type": "stream",
     "text": [
      "Assets written to: models/SAM/model/assets\n"
     ]
    }
   ],
   "source": [
    "model.model.save(pargs.output+'/model')"
   ]
  },
  {
   "cell_type": "code",
   "execution_count": null,
   "id": "2aafa8ff",
   "metadata": {},
   "outputs": [],
   "source": [
    "pargs.output"
   ]
  },
  {
   "cell_type": "code",
   "execution_count": 73,
   "id": "075a6e12",
   "metadata": {},
   "outputs": [
    {
     "ename": "KeyError",
     "evalue": "'loss'",
     "output_type": "error",
     "traceback": [
      "\u001b[0;31m---------------------------------------------------------------------------\u001b[0m",
      "\u001b[0;31mKeyError\u001b[0m                                  Traceback (most recent call last)",
      "\u001b[0;32m<ipython-input-73-a8489d1127d4>\u001b[0m in \u001b[0;36m<module>\u001b[0;34m\u001b[0m\n\u001b[0;32m----> 1\u001b[0;31m \u001b[0mplot_history\u001b[0m\u001b[0;34m(\u001b[0m\u001b[0mhistory\u001b[0m\u001b[0;34m)\u001b[0m\u001b[0;34m\u001b[0m\u001b[0;34m\u001b[0m\u001b[0m\n\u001b[0m",
      "\u001b[0;32m<ipython-input-21-d251b4bc7db5>\u001b[0m in \u001b[0;36mplot_history\u001b[0;34m(history)\u001b[0m\n\u001b[1;32m      1\u001b[0m \u001b[0;32mdef\u001b[0m \u001b[0mplot_history\u001b[0m\u001b[0;34m(\u001b[0m\u001b[0mhistory\u001b[0m\u001b[0;34m)\u001b[0m\u001b[0;34m:\u001b[0m\u001b[0;34m\u001b[0m\u001b[0;34m\u001b[0m\u001b[0m\n\u001b[0;32m----> 2\u001b[0;31m     \u001b[0mplt\u001b[0m\u001b[0;34m.\u001b[0m\u001b[0mplot\u001b[0m\u001b[0;34m(\u001b[0m\u001b[0mhistory\u001b[0m\u001b[0;34m.\u001b[0m\u001b[0mhistory\u001b[0m\u001b[0;34m[\u001b[0m\u001b[0;34m\"loss\"\u001b[0m\u001b[0;34m]\u001b[0m\u001b[0;34m,\u001b[0m \u001b[0mlabel\u001b[0m\u001b[0;34m=\u001b[0m\u001b[0;34m\"Training Loss\"\u001b[0m\u001b[0;34m)\u001b[0m\u001b[0;34m\u001b[0m\u001b[0;34m\u001b[0m\u001b[0m\n\u001b[0m\u001b[1;32m      3\u001b[0m \u001b[0;31m#     plt.plot(history.history[\"val_loss\"], label=\"Validation Loss\")\u001b[0m\u001b[0;34m\u001b[0m\u001b[0;34m\u001b[0m\u001b[0;34m\u001b[0m\u001b[0m\n\u001b[1;32m      4\u001b[0m \u001b[0;31m#     plt.plot(history.history[\"accuracy\"], label=\"Training Accuracy\")\u001b[0m\u001b[0;34m\u001b[0m\u001b[0;34m\u001b[0m\u001b[0;34m\u001b[0m\u001b[0m\n\u001b[1;32m      5\u001b[0m \u001b[0;31m#     plt.plot(history.history[\"val_accuracy\"], label=\"Validation Accuracy\")\u001b[0m\u001b[0;34m\u001b[0m\u001b[0;34m\u001b[0m\u001b[0;34m\u001b[0m\u001b[0m\n",
      "\u001b[0;31mKeyError\u001b[0m: 'loss'"
     ]
    }
   ],
   "source": [
    "plot_history(history)"
   ]
  },
  {
   "cell_type": "code",
   "execution_count": 75,
   "id": "38fee871",
   "metadata": {},
   "outputs": [],
   "source": [
    "test_data = data_sets.test.get_data()"
   ]
  },
  {
   "cell_type": "code",
   "execution_count": 76,
   "id": "f4d35fe2",
   "metadata": {},
   "outputs": [
    {
     "data": {
      "text/plain": [
       "[array([[-2.6728282 , -1.8464355 ],\n",
       "        [ 3.9838138 ,  0.4462554 ],\n",
       "        [ 2.7026367 ,  1.0645025 ],\n",
       "        ...,\n",
       "        [-2.3213978 ,  2.2504988 ],\n",
       "        [-0.44654238,  2.1406457 ],\n",
       "        [ 0.3210231 ,  0.14192164]], dtype=float32),\n",
       " array([[ 0.01318942, -0.00278577],\n",
       "        [-0.00043423, -0.00539079],\n",
       "        [ 0.00401287,  0.00022065],\n",
       "        ...,\n",
       "        [-0.00309911,  0.0022902 ],\n",
       "        [-0.00585146, -0.00258869],\n",
       "        [ 0.00587478, -0.00742014]], dtype=float32),\n",
       " array([[0.03045917, 0.02610174],\n",
       "        [0.03817164, 0.04281719],\n",
       "        [0.00149915, 0.00155977],\n",
       "        ...,\n",
       "        [0.02908931, 0.01858231],\n",
       "        [0.03455892, 0.02796689],\n",
       "        [0.03920526, 0.03411723]], dtype=float32)]"
      ]
     },
     "execution_count": 76,
     "metadata": {},
     "output_type": "execute_result"
    }
   ],
   "source": [
    "model.predict([test_data[\"inputs\"], test_data[\"labels\"], test_data[\"modvel\"]/scale[\"modvel\"]])"
   ]
  },
  {
   "cell_type": "code",
   "execution_count": 77,
   "id": "fa7ce9d0",
   "metadata": {},
   "outputs": [
    {
     "name": "stdout",
     "output_type": "stream",
     "text": [
      "WARNING:tensorflow:No training configuration found in save file, so the model was *not* compiled. Compile it manually.\n"
     ]
    },
    {
     "name": "stderr",
     "output_type": "stream",
     "text": [
      "No training configuration found in save file, so the model was *not* compiled. Compile it manually.\n"
     ]
    }
   ],
   "source": [
    "model_saved = tf.keras.models.load_model(pargs.output+\"/model-50000\")"
   ]
  },
  {
   "cell_type": "code",
   "execution_count": 79,
   "id": "2175674c",
   "metadata": {},
   "outputs": [
    {
     "data": {
      "text/plain": [
       "[array([[-2.6728282 , -1.8464355 ],\n",
       "        [ 3.9838138 ,  0.4462554 ],\n",
       "        [ 2.7026367 ,  1.0645025 ],\n",
       "        ...,\n",
       "        [-2.3213978 ,  2.2504988 ],\n",
       "        [-0.44654238,  2.1406457 ],\n",
       "        [ 0.3210231 ,  0.14192164]], dtype=float32),\n",
       " array([[ 0.01318942, -0.00278577],\n",
       "        [-0.00043423, -0.00539079],\n",
       "        [ 0.00401287,  0.00022065],\n",
       "        ...,\n",
       "        [-0.00309911,  0.0022902 ],\n",
       "        [-0.00585146, -0.00258869],\n",
       "        [ 0.00587478, -0.00742014]], dtype=float32),\n",
       " array([[0.03045917, 0.02610174],\n",
       "        [0.03817164, 0.04281719],\n",
       "        [0.00149915, 0.00155977],\n",
       "        ...,\n",
       "        [0.02908931, 0.01858231],\n",
       "        [0.03455892, 0.02796689],\n",
       "        [0.03920526, 0.03411723]], dtype=float32)]"
      ]
     },
     "execution_count": 79,
     "metadata": {},
     "output_type": "execute_result"
    }
   ],
   "source": [
    "model_saved.predict([test_data[\"inputs\"], test_data[\"labels\"], test_data[\"modvel\"]/scale[\"modvel\"]])"
   ]
  },
  {
   "cell_type": "code",
   "execution_count": 84,
   "id": "78ece982",
   "metadata": {},
   "outputs": [
    {
     "ename": "ValueError",
     "evalue": "The truth value of an array with more than one element is ambiguous. Use a.any() or a.all()",
     "output_type": "error",
     "traceback": [
      "\u001b[0;31m---------------------------------------------------------------------------\u001b[0m",
      "\u001b[0;31mValueError\u001b[0m                                Traceback (most recent call last)",
      "\u001b[0;32m<ipython-input-84-c70d312e88ca>\u001b[0m in \u001b[0;36m<module>\u001b[0;34m\u001b[0m\n\u001b[0;32m----> 1\u001b[0;31m \u001b[0mmodel\u001b[0m\u001b[0;34m.\u001b[0m\u001b[0mpredict\u001b[0m\u001b[0;34m(\u001b[0m\u001b[0;34m[\u001b[0m\u001b[0mtest_data\u001b[0m\u001b[0;34m[\u001b[0m\u001b[0;34m\"inputs\"\u001b[0m\u001b[0;34m]\u001b[0m\u001b[0;34m,\u001b[0m \u001b[0mtest_data\u001b[0m\u001b[0;34m[\u001b[0m\u001b[0;34m\"labels\"\u001b[0m\u001b[0;34m]\u001b[0m\u001b[0;34m,\u001b[0m \u001b[0mtest_data\u001b[0m\u001b[0;34m[\u001b[0m\u001b[0;34m\"modvel\"\u001b[0m\u001b[0;34m]\u001b[0m\u001b[0;34m/\u001b[0m\u001b[0mscale\u001b[0m\u001b[0;34m[\u001b[0m\u001b[0;34m\"modvel\"\u001b[0m\u001b[0;34m]\u001b[0m\u001b[0;34m]\u001b[0m\u001b[0;34m)\u001b[0m \u001b[0;34m==\u001b[0m \u001b[0mmodel\u001b[0m\u001b[0;34m.\u001b[0m\u001b[0mpredict\u001b[0m\u001b[0;34m(\u001b[0m\u001b[0;34m[\u001b[0m\u001b[0mtest_data\u001b[0m\u001b[0;34m[\u001b[0m\u001b[0;34m\"inputs\"\u001b[0m\u001b[0;34m]\u001b[0m\u001b[0;34m,\u001b[0m \u001b[0mtest_data\u001b[0m\u001b[0;34m[\u001b[0m\u001b[0;34m\"labels\"\u001b[0m\u001b[0;34m]\u001b[0m\u001b[0;34m,\u001b[0m \u001b[0mtest_data\u001b[0m\u001b[0;34m[\u001b[0m\u001b[0;34m\"modvel\"\u001b[0m\u001b[0;34m]\u001b[0m\u001b[0;34m/\u001b[0m\u001b[0mscale\u001b[0m\u001b[0;34m[\u001b[0m\u001b[0;34m\"modvel\"\u001b[0m\u001b[0;34m]\u001b[0m\u001b[0;34m]\u001b[0m\u001b[0;34m)\u001b[0m\u001b[0;34m\u001b[0m\u001b[0;34m\u001b[0m\u001b[0m\n\u001b[0m",
      "\u001b[0;31mValueError\u001b[0m: The truth value of an array with more than one element is ambiguous. Use a.any() or a.all()"
     ]
    }
   ],
   "source": [
    "model.predict([test_data[\"inputs\"], test_data[\"labels\"], test_data[\"modvel\"]/scale[\"modvel\"]]) == model.predict([test_data[\"inputs\"], test_data[\"labels\"], test_data[\"modvel\"]/scale[\"modvel\"]])"
   ]
  },
  {
   "cell_type": "code",
   "execution_count": null,
   "id": "fe1783f4",
   "metadata": {},
   "outputs": [],
   "source": [
    "t = model.predict([test_data[\"inputs\"], test_data[\"labels\"], test_data[\"modvel\"]/scale[\"modvel\"]])"
   ]
  },
  {
   "cell_type": "code",
   "execution_count": null,
   "id": "675fe4c3",
   "metadata": {},
   "outputs": [],
   "source": [
    "test_data"
   ]
  }
 ],
 "metadata": {
  "kernelspec": {
   "display_name": "Python 3",
   "language": "python",
   "name": "python3"
  },
  "language_info": {
   "codemirror_mode": {
    "name": "ipython",
    "version": 3
   },
   "file_extension": ".py",
   "mimetype": "text/x-python",
   "name": "python",
   "nbconvert_exporter": "python",
   "pygments_lexer": "ipython3",
   "version": "3.8.10"
  }
 },
 "nbformat": 4,
 "nbformat_minor": 5
}

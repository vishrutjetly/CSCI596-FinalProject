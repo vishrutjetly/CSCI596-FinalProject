{
 "cells": [
  {
   "cell_type": "code",
   "execution_count": 1,
   "id": "c57ddfb3",
   "metadata": {},
   "outputs": [
    {
     "name": "stdout",
     "output_type": "stream",
     "text": [
      "WARNING:tensorflow:From /usr/local/lib/python3.8/dist-packages/tensorflow/python/compat/v2_compat.py:96: disable_resource_variables (from tensorflow.python.ops.variable_scope) is deprecated and will be removed in a future version.\n",
      "Instructions for updating:\n",
      "non-resource variables are not supported in the long term\n"
     ]
    }
   ],
   "source": [
    "import sys, os, argparse, shutil, inspect\n",
    "\n",
    "import numpy as np\n",
    "import tensorflow as tf\n",
    "from tensorflow import keras\n",
    "\n",
    "import tf_datasets, tf_network\n",
    "\n",
    "import logging, pickle\n",
    "\n",
    "import matplotlib\n",
    "import matplotlib.pyplot as plt\n",
    "from matplotlib.backends.backend_pdf import PdfPages"
   ]
  },
  {
   "cell_type": "code",
   "execution_count": 2,
   "id": "ca8b8d42",
   "metadata": {},
   "outputs": [],
   "source": [
    "sys.argv = ['scenes/tf_train.py', '--mve', '-o', '/tmp/tfmodel/', '../training_data/BigData/tdata/']"
   ]
  },
  {
   "cell_type": "code",
   "execution_count": 3,
   "id": "6fecef18",
   "metadata": {},
   "outputs": [],
   "source": [
    "parser = argparse.ArgumentParser(description='Generate Training Data', formatter_class=argparse.ArgumentDefaultsHelpFormatter)\n",
    "parser.add_argument('-o', '--output', default='/tmp/tfmodel/',   help='output directory')\n",
    "parser.add_argument('-l', '--load',   action=\"store_true\",       help='load and resume the training')\n",
    "parser.add_argument(      '--lstep',  default=100,   type=int,   help='log summary; e.g., every 10th steps')\n",
    "parser.add_argument('-s', '--steps',  default=10000, type=int,   help='maximum training steps')\n",
    "parser.add_argument('-b', '--batch',  default=5000,  type=int,   help='batch size for one step training')\n",
    "parser.add_argument('-t', '--ftest',  default=0.25,  type=float, help='fraction for the test data set')\n",
    "parser.add_argument('-d', '--dnet',   default='27-34-2',         help='detection networks int-int-...')\n",
    "parser.add_argument('-m', '--mnet',   default='27-34-2',         help='modification networks int-int-...')\n",
    "parser.add_argument(      '--dact',   default='none-tanh-tanh',  help='activation function for detection networks')\n",
    "parser.add_argument(      '--mact',   default='none-tanh-tanh',  help='activation function for modification networks')\n",
    "parser.add_argument(      '--stats',  action=\"store_true\",       help='write the stats')\n",
    "parser.add_argument('-v', '--mve',    action=\"store_true\",       help='turn on mean-variance learning')\n",
    "parser.add_argument(      '--nosmax', action=\"store_true\",       help='do not use the softmax model')\n",
    "parser.add_argument('-r', '--decay',  default=0.1,   type=float, help='regularization coefficient')\n",
    "parser.add_argument(      '--ddrop',  default=0.1,   type=float, help='dropout rate (detection)')\n",
    "parser.add_argument(      '--mdrop',  default=0.1,   type=float, help='dropout rate (modification)')\n",
    "parser.add_argument('datadirs', action=\"store\", nargs=\"+\",       help='path(s) to the training data')\n",
    "pargs = parser.parse_args()"
   ]
  },
  {
   "cell_type": "code",
   "execution_count": 4,
   "id": "b481c821",
   "metadata": {},
   "outputs": [
    {
     "data": {
      "text/plain": [
       "False"
      ]
     },
     "execution_count": 4,
     "metadata": {},
     "output_type": "execute_result"
    }
   ],
   "source": [
    "pargs.nosmax"
   ]
  },
  {
   "cell_type": "code",
   "execution_count": 5,
   "id": "d4cd6da3",
   "metadata": {},
   "outputs": [],
   "source": [
    "# pargs.dnet = \"27-34-17-2\"\n",
    "# pargs.mnet = \"27-34-17-2\"\n",
    "# pargs.dact = \"none-tanh-tanh-tanh\"\n",
    "# pargs.mact = \"none-tanh-tanh-tanh\"\n",
    "\n",
    "pargs.output = \"models/BigData/\"\n",
    "pargs.dnet = \"27-34-2\"\n",
    "pargs.mnet = \"27-34-2\"\n",
    "pargs.dact = \"none-tanh-tanh\"\n",
    "pargs.mact = \"none-tanh-tanh\""
   ]
  },
  {
   "cell_type": "code",
   "execution_count": 6,
   "id": "89425a50",
   "metadata": {},
   "outputs": [
    {
     "name": "stderr",
     "output_type": "stream",
     "text": [
      "tensorflow-2.5.0 (/usr/local/lib/python3.8/dist-packages/tensorflow/include, /usr/local/lib/python3.8/dist-packages/tensorflow)\n",
      "Namespace(batch=5000, dact='none-tanh-tanh', datadirs=['../training_data/BigData/tdata/'], ddrop=0.1, decay=0.1, dnet='27-34-2', ftest=0.25, load=False, lstep=100, mact='none-tanh-tanh', mdrop=0.1, mnet='27-34-2', mve=True, nosmax=False, output='models/BigData', stats=False, steps=10000)\n",
      "99476 tuples have been loaded; randomly selected 74607 for the training set and 24869 for the test set\n",
      "{'inputs': 5.772246, 'labels': 1.0, 'modvel': 3.4797614}\n"
     ]
    }
   ],
   "source": [
    "pargs.output = os.path.normpath(pargs.output)\n",
    "os.path.isdir(pargs.output) or os.makedirs(pargs.output)\n",
    "\n",
    "shutil.copy(inspect.stack()[-1][1], pargs.output+'/')\n",
    "with open(pargs.output+'/run_args.pickle', 'wb') as f: \n",
    "    pickle.dump(vars(pargs), f)\n",
    "with open(pargs.output+'/run_cmd.txt', 'w') as f: \n",
    "    f.write(' '.join(os.uname()) + '\\n' + ' '.join(sys.argv))\n",
    "\n",
    "data_sets, N_tuple = tf_datasets.read_data_sets(dirs=sorted(pargs.datadirs), use_softmax=(not pargs.nosmax), frac_test=pargs.ftest)\n",
    "scale = { i: max(abs(data_sets.train.get_data()[i].min()), abs(data_sets.train.get_data()[i].max())) for i in data_sets.train.get_data() }\n",
    "with open(pargs.output+'/scale.pickle', 'wb') as f: \n",
    "    pickle.dump(scale, f)\n",
    "\n",
    "logging.basicConfig(filename='{}/training-info.log'.format(pargs.output), level=logging.INFO)\n",
    "logging.getLogger().addHandler(logging.StreamHandler())\n",
    "logging.info('tensorflow-{} ({}, {})'.format(tf.__version__, tf.sysconfig.get_include(), tf.sysconfig.get_lib()))\n",
    "logging.info(pargs)\n",
    "logging.info('{} tuples have been loaded; randomly selected {} for the training set and {} for the test set'.format(\n",
    "    N_tuple, data_sets.train._num_examples, data_sets.test._num_examples))\n",
    "logging.info(scale)"
   ]
  },
  {
   "cell_type": "code",
   "execution_count": 7,
   "id": "3da229ab",
   "metadata": {},
   "outputs": [],
   "source": [
    "# statistics\n",
    "if pargs.stats and (not pargs.load):\n",
    "    with PdfPages(pargs.output+'/histogram.pdf') as pdf, open(pargs.output+'/dataset_stats.pickle', 'wb') as log:\n",
    "        l = data_sets.train.get_data()['labels']\n",
    "        if not pargs.nosmax: l = l[:,0]\n",
    "        dataset_stats = {}\n",
    "        for i in sorted(data_sets.train.get_data()):\n",
    "            d = data_sets.train.get_data()[i][(l==1).reshape(-1)] # only splash particles\n",
    "            dataset_stats[i] = [None]*d.shape[1]\n",
    "            for j in range(d.shape[1]):\n",
    "                d_row = d[:,j].reshape(-1)\n",
    "                dataset_stats[i][j] = { 'mean': np.mean(d_row), 'std': np.std(d_row), 'min': np.amin(d_row), 'max': np.amax(d_row) }\n",
    "                plt.figure()\n",
    "                plt.hist(d_row, bins='auto')\n",
    "                plt.title('Histogram of {}[{}]'.format(i, j))\n",
    "                plt.savefig(pdf, format='pdf')\n",
    "                plt.close()\n",
    "\n",
    "        pickle.dump(dataset_stats, log)"
   ]
  },
  {
   "cell_type": "code",
   "execution_count": 8,
   "id": "00b19a84",
   "metadata": {},
   "outputs": [],
   "source": [
    "# tf.set_random_seed(1)\n",
    "tf.random.set_seed(1)\n",
    "\n",
    "def parse_act(act):\n",
    "    if act == 'tanh':    return tf.nn.tanh\n",
    "    if act == 'sigmoid': return tf.nn.sigmoid\n",
    "    if act == 'relu':    return tf.nn.relu\n",
    "    return tf.nn.tanh"
   ]
  },
  {
   "cell_type": "code",
   "execution_count": 9,
   "id": "f064a529",
   "metadata": {},
   "outputs": [],
   "source": [
    "# init_weights = { 'w': {'mean': float, 'stddev': float}, 'b': {'value': float} }\n",
    "def weight_variable(shape, init_weights=None):\n",
    "    params = dict(shape=shape)\n",
    "    if init_weights and 'w' in init_weights: params.update(init_weights['w'])\n",
    "    initial = tf.truncated_normal(**params)\n",
    "    return tf.Variable(initial)"
   ]
  },
  {
   "cell_type": "code",
   "execution_count": 10,
   "id": "ea8147e5",
   "metadata": {},
   "outputs": [],
   "source": [
    "def bias_variable(shape, init_weights=None):\n",
    "    params = dict(value=0.1, shape=shape)\n",
    "    if init_weights and 'b' in init_weights: params.update(init_weights['b'])\n",
    "    initial = tf.constant(**params)\n",
    "    return tf.Variable(initial)"
   ]
  },
  {
   "cell_type": "code",
   "execution_count": 11,
   "id": "12c1bee1",
   "metadata": {},
   "outputs": [],
   "source": [
    "def variable_summaries(var, name):\n",
    "    \"\"\"Attach a lot of summaries to a Tensor.\"\"\"\n",
    "    with tf.name_scope('summaries'):\n",
    "        mean = tf.reduce_mean(var)\n",
    "        tf.summary.scalar(name='mean/' + name, tensor=mean)\n",
    "        with tf.name_scope('stddev'):\n",
    "            stddev = tf.sqrt(tf.reduce_sum(tf.square(var - mean)))\n",
    "\n",
    "        tf.summary.scalar(name='stddev/' + name, tensor=stddev)\n",
    "        tf.summary.scalar(name='max/' + name, tensor=tf.reduce_max(var))\n",
    "        tf.summary.scalar(name='min/' + name, tensor=tf.reduce_min(var))\n",
    "        tf.summary.histogram(name=name, values=var)"
   ]
  },
  {
   "cell_type": "code",
   "execution_count": 12,
   "id": "19b8e6c6",
   "metadata": {},
   "outputs": [],
   "source": [
    "# def nn_layer(input_tensor, input_dim, output_dim, layer_name,\n",
    "#              init_weights=None, drop=None, bn=False, is_training=True, act=tf.nn.tanh):\n",
    "    \n",
    "#     x = keras.layers.Dense(input_dim, activation=act)(input_tensor)    \n",
    "#     if bn:\n",
    "#         x = layers.BatchNormalization(momentum=0.99, #0.999 \n",
    "#             epsilon=0.001, # 1e-4\n",
    "#          )(x)\n",
    "        \n",
    "#     x = keras.layers.Dropout(drop)(x)\n",
    "    \n",
    "#     return x"
   ]
  },
  {
   "cell_type": "code",
   "execution_count": 13,
   "id": "0eb5e4ec",
   "metadata": {},
   "outputs": [],
   "source": [
    "# def build_network(layers, layers_act=None, input_x_holder=None, input_y_holder=None, dropout_holder=None,\n",
    "#                   init_weights=None, bn=False, is_training=True, scope=''):\n",
    "#     with tf.name_scope('{}input'.format(scope)):\n",
    "#         x  =  input_x_holder\n",
    "#         y_ = input_y_holder\n",
    "\n",
    "#     lp = x\n",
    "\n",
    "#     for i in range(1, len(layers)-1):\n",
    "#         lp = nn_layer(input_tensor=lp, input_dim=layers[i-1], output_dim=layers[i], layer_name='{}layer{}'.format(scope, i),\n",
    "#                       init_weights=init_weights, drop=dropout_holder, bn=bn, is_training=is_training,\n",
    "#                       act=layers_act[i] if layers_act else tf.nn.tanh)\n",
    "\n",
    "#     y = nn_layer(input_tensor=lp, input_dim=layers[i], output_dim=layers[i+1], layer_name='{}layer_full'.format(scope),\n",
    "#                  init_weights=init_weights, drop=dropout_holder, bn=bn, is_training=is_training,\n",
    "#                  act=layers_act[i+1] if layers_act else tf.nn.tanh)\n",
    "\n",
    "#     return x, y_, y"
   ]
  },
  {
   "cell_type": "code",
   "execution_count": 14,
   "id": "1026a5ed",
   "metadata": {},
   "outputs": [],
   "source": [
    "# logging.info('Neural network structure: detection {} and modification {}'.format(pargs.dnet, pargs.mnet))\n",
    "# dlayers    = list(map(int, pargs.dnet.split('-')))\n",
    "# mlayers    = list(map(int, pargs.mnet.split('-')))\n",
    "# dact       = list(map(tf_network.parse_act, pargs.dact.split('-')))\n",
    "# mact       = list(map(tf_network.parse_act, pargs.mact.split('-')))\n",
    "# init_w     = {'w': {'stddev': 0.1}, 'b': {'value': 0.5}}\n",
    "# # x          = tf.placeholder(tf.float32, shape=[None, dlayers[0]], name='x-input')\n",
    "# # keep_prob  = tf.placeholder(tf.float32, name='keep_prob_detector') if pargs.ddrop>0.0 else None\n",
    "# # keep_prob2 = tf.placeholder(tf.float32, name='keep_prob_modifier') if pargs.mdrop>0.0 else None\n",
    "# y_,  y     = tf_network.build_network(dlayers, dact, init_weights=init_w, input_x_holder=x, dropout_holder=keep_prob,  bn=True, scope='detector/')[1:]\n",
    "# y2_, y2    = tf_network.build_network(mlayers, mact, init_weights=init_w, input_x_holder=x, dropout_holder=keep_prob2, bn=True, scope='modifier/')[1:]\n",
    "# if pargs.mve:\n",
    "#     s      = tf_network.build_network(mlayers, mact, init_weights=init_w, input_x_holder=x, input_y_holder=y2_, dropout_holder=keep_prob2, bn=True, scope='modifier_var/')[2]\n",
    "\n",
    "# global_step = tf.Variable(0, trainable=False, name='global_step')"
   ]
  },
  {
   "cell_type": "code",
   "execution_count": 15,
   "id": "2cf1b2d4",
   "metadata": {},
   "outputs": [
    {
     "name": "stderr",
     "output_type": "stream",
     "text": [
      "Neural network structure: detection 27-34-2 and modification 27-34-2\n"
     ]
    }
   ],
   "source": [
    "logging.info('Neural network structure: detection {} and modification {}'.format(pargs.dnet, pargs.mnet))\n",
    "dlayers    = list(map(int, pargs.dnet.split('-')))\n",
    "mlayers    = list(map(int, pargs.mnet.split('-')))\n",
    "dact       = list(map(tf_network.parse_act, pargs.dact.split('-')))\n",
    "mact       = list(map(tf_network.parse_act, pargs.mact.split('-')))\n",
    "init_w     = {'w': {'stddev': 0.1}, 'b': {'value': 0.5}}"
   ]
  },
  {
   "cell_type": "code",
   "execution_count": 16,
   "id": "922d1cb0",
   "metadata": {},
   "outputs": [
    {
     "name": "stdout",
     "output_type": "stream",
     "text": [
      "[27, 34, 2]\n",
      "[27, 34, 2]\n",
      "[27, 34, 2]\n"
     ]
    }
   ],
   "source": [
    "x = keras.Input(shape=(dlayers[0],))\n",
    "\n",
    "\n",
    "def build_network(layers, layers_act=None, input_x_holder=None, input_y_holder=None, dropout_holder=None,\n",
    "                  init_weights=None, bn=False, is_training=True, scope=''):\n",
    "    lp = x\n",
    "\n",
    "    for i in range(1, len(layers)-1):\n",
    "        lp = nn_layer(input_tensor=lp, input_dim=layers[i-1], output_dim=layers[i], layer_name='{}layer{}'.format(scope, i),\n",
    "                      init_weights=init_weights, keep_prob=dropout_holder, bn=bn, is_training=is_training,\n",
    "                      act=layers_act[i] if layers_act else tf.nn.tanh)\n",
    "\n",
    "    y = nn_layer(input_tensor=lp, input_dim=layers[i], output_dim=layers[i+1], layer_name='{}layer_full'.format(scope),\n",
    "                 init_weights=init_weights, keep_prob=dropout_holder, bn=bn, is_training=is_training,\n",
    "                 act=layers_act[i+1] if layers_act else tf.nn.tanh)\n",
    "\n",
    "    print(layers)\n",
    "\n",
    "    return x, y_, y\n",
    "\n",
    "\n",
    "y_,  y     = tf_network.build_network(dlayers, dact, init_weights=init_w, input_x_holder=x, dropout_holder=pargs.ddrop, bn=True, scope='detector/')[1:]\n",
    "y2_, y2    = tf_network.build_network(mlayers, mact, init_weights=init_w, input_x_holder=x, dropout_holder=pargs.mdrop, bn=True, scope='modifier/')[1:]\n",
    "\n",
    "if pargs.mve:\n",
    "    s      = tf_network.build_network(mlayers, mact, init_weights=init_w, input_x_holder=x, input_y_holder=y2_, dropout_holder=pargs.mdrop, bn=True, scope='modifier_var/')[2]\n"
   ]
  },
  {
   "cell_type": "code",
   "execution_count": 17,
   "id": "e7fb92a5",
   "metadata": {},
   "outputs": [],
   "source": [
    "# ################################################################################\n",
    "# # evaluation functions\n",
    "# log_dict = {}\n",
    "# with tf.name_scope('accuracy'):\n",
    "#     with tf.name_scope('correct_prediction'):\n",
    "#         if pargs.nosmax: corr, appx = tf.cast(tf.less(y_, 0.5), tf.int64), tf.cast(tf.less(y, 0.5), tf.int64) # f: splashing, t: non-splashing\n",
    "#         else:            corr, appx = tf.argmax(y_, 1), tf.argmax(y, 1)                                       # 0: splashing, 1: non-splashing\n",
    "\n",
    "#         correct_prediction = tf.equal(corr, appx)\n",
    "#         accuracy           = tf.reduce_mean(tf.cast(correct_prediction, tf.float32))\n",
    "#         y_b_appx           = tf.equal(appx, 0) # true: splashing, false: non-splashing\n",
    "#         y_b_corr           = tf.equal(corr, 0)\n",
    "\n",
    "#         N_corr_non_splas    = tf.reduce_sum(corr)\n",
    "#         N_corr_splashing    = tf.cast(tf.shape(y_)[0], tf.int64) - N_corr_non_splas\n",
    "#         diff_appx_corr      = tf.math.logical_xor(y_b_appx, y_b_corr)\n",
    "#         N_corr_spl_appx_non = tf.reduce_sum(tf.cast(tf.logical_and(y_b_corr, diff_appx_corr), tf.float32))\n",
    "#         N_corr_non_appx_spl = tf.reduce_sum(tf.cast(tf.logical_and(y_b_appx, diff_appx_corr), tf.float32))\n",
    "#         false_negative      = N_corr_spl_appx_non/tf.cast(N_corr_splashing, tf.float32)\n",
    "#         false_positive      = N_corr_non_appx_spl/tf.cast(N_corr_non_splas, tf.float32)\n",
    "\n",
    "#         log_dict['accuracy']                     = accuracy\n",
    "#         log_dict['false_negative_corr_T_appx_F'] = false_negative\n",
    "#         log_dict['false_positive_corr_F_appx_T'] = false_positive\n",
    "#         log_dict['splashes/corr']                = 1.0 - tf.reduce_mean(tf.cast(corr, tf.float32))\n",
    "#         log_dict['splashes/appx']                = 1.0 - tf.reduce_mean(tf.cast(appx, tf.float32))\n",
    "\n",
    "#     with tf.name_scope('loss'):\n",
    "#         with tf.GradientTape() as tape:\n",
    "#             loss_normalizer = 1.0/tf.cast(tf.shape(y2_)[0], tf.float32)\n",
    "\n",
    "#             with tf.name_scope('detector'):\n",
    "#                 if pargs.nosmax: loss_detector = tf.nn.l2_loss(y - y_)\n",
    "#                 else:            loss_detector = tf.reduce_mean(tf.nn.softmax_cross_entropy_with_logits(labels=y_, logits=y))\n",
    "#                 log_dict['detector/loss'] = loss_detector*loss_normalizer if pargs.nosmax else loss_detector\n",
    "\n",
    "#             with tf.name_scope('modifier'):\n",
    "#                 loss_modifier = tf.nn.l2_loss(y2 - y2_)\n",
    "#                 log_dict['modifier/loss'] = loss_modifier*loss_normalizer\n",
    "#                 if pargs.mve:\n",
    "#                     loss_modifier_mve = 0.5*tf.reduce_sum(((y2 - y2_)**2)/(s**2 + 1e-9)) + 0.5*tf.reduce_sum(tf.math.log(s**2 + 1e-9)) # mean variance estimate\n",
    "#                     log_dict['modifier_mve/loss'] = loss_modifier_mve*loss_normalizer\n",
    "\n",
    "#             loss = loss_detector + loss_modifier\n",
    "#             log_dict['sum_loss'] = log_dict['detector/loss'] + log_dict['modifier/loss']\n",
    "#             if pargs.mve:\n",
    "#                 loss_mve = loss_detector + loss_modifier_mve\n",
    "#                 log_dict['sum_loss_mve'] = log_dict['detector/loss'] + log_dict['modifier_mve/loss']\n",
    "\n",
    "#             if pargs.decay>0.0:\n",
    "#                 w_detector     = tf.compat.v1.get_collection(tf.compat.v1.GraphKeys.TRAINABLE_VARIABLES, \"detector/\")\n",
    "#                 w_modifier     = tf.compat.v1.get_collection(tf.compat.v1.GraphKeys.TRAINABLE_VARIABLES, \"modifier/\")\n",
    "#                 decay_detector = tf.add_n([tf.nn.l2_loss(v) for v in w_detector])*pargs.decay\n",
    "#                 decay_modifier = tf.add_n([tf.nn.l2_loss(v) for v in w_modifier])*pargs.decay\n",
    "\n",
    "#                 loss += decay_detector + decay_modifier\n",
    "\n",
    "#                 log_dict['detector/decay'] = decay_detector\n",
    "#                 log_dict['modifier/decay'] = decay_modifier\n",
    "#                 log_dict['sum_loss'] += decay_detector + decay_modifier\n",
    "\n",
    "#                 if pargs.mve:\n",
    "#                     w_modifier_var = tf.compat.v1.get_collection(tf.compat.v1.GraphKeys.TRAINABLE_VARIABLES, \"modifier_var/\")\n",
    "#                     decay_modifier_var = tf.add_n([tf.nn.l2_loss(v) for v in w_modifier_var])*pargs.decay\n",
    "#                     loss_mve += decay_modifier_var\n",
    "#                     log_dict['modifier_var/decay'] = decay_modifier_var\n",
    "#                     log_dict['sum_loss_mve'] += decay_modifier_var\n",
    "\n",
    "#     for i in log_dict:\n",
    "#         tf.summary.scalar(name=i, data=log_dict[i])"
   ]
  },
  {
   "cell_type": "code",
   "execution_count": 18,
   "id": "6cd2ba9c",
   "metadata": {},
   "outputs": [],
   "source": [
    "# with tf.name_scope('train'):\n",
    "#     opt = keras.optimizers.Adam(1e-4)\n",
    "#     grads = tape.gradient(loss, [w_detector, w_modifier])\n",
    "#     processed_grads = [process_gradient(g) for g in grads]\n",
    "#     opt.apply_gradients(zip(processed_grads, [w_detector, w_modifier]))\n",
    "    \n",
    "# #     train_step = keras.optimizers.Adam(1e-4).minimize(loss, [w_detector, w_modifier])\n",
    "    \n",
    "#     if pargs.mve: \n",
    "#         opt_mve = keras.optimizers.Adam(1e-4)\n",
    "#         grads_mve = tape.gradient(loss_mve, [w_modifier_var])\n",
    "#         processed_grads_mve = [process_gradient(g) for g in grads_mve]\n",
    "#         opt_mve.apply_gradients(zip(processed_grads_mve, [w_detector, w_modifier]))\n",
    "        \n",
    "# #         train_step_mve = keras.optimizers.Adam(1e-4).minimize(loss_mve, [w_modifier_var])\n",
    "\n",
    "# increment_global_step = tf.assign_add(global_step, 1, name='increment_global_step')"
   ]
  },
  {
   "cell_type": "code",
   "execution_count": 19,
   "id": "0b06c868",
   "metadata": {},
   "outputs": [],
   "source": [
    "def training_model():\n",
    "    inputs = keras.layers.Input(dlayers[0],)\n",
    "    \n",
    "    y1 = keras.layers.Input(dlayers[-1],)\n",
    "    y2 = keras.layers.Input(mlayers[-1],)\n",
    "    \n",
    "    x = inputs\n",
    "    for i in range(1, len(dlayers)-1):\n",
    "        x = keras.layers.Dense(dlayers[i], activation=\"tanh\", \n",
    "                              kernel_initializer=tf.keras.initializers.RandomNormal(mean=0.0, stddev=0.1),\n",
    "                              bias_initializer=tf.keras.initializers.Constant(0.5))(x)    \n",
    "        if 1:\n",
    "            x = keras.layers.BatchNormalization(momentum=0.999, #0.999 \n",
    "                epsilon=0.0001, # 1e-4\n",
    "             )(x)\n",
    "        x = keras.layers.Dropout(0.1)(x)\n",
    "    x = keras.layers.Dense(dlayers[-1], activation=\"tanh\", \n",
    "                          kernel_initializer=tf.keras.initializers.RandomNormal(mean=0.0, stddev=0.1),\n",
    "                          bias_initializer=tf.keras.initializers.Constant(0.5))(x)\n",
    "    x = keras.layers.BatchNormalization(momentum=0.999, #0.999 \n",
    "                epsilon=0.0001, # 1e-4\n",
    "             )(x)\n",
    "    output1 = x\n",
    "    \n",
    "    x = inputs\n",
    "    for i in range(1, len(mlayers)-1):\n",
    "        x = keras.layers.Dense(mlayers[i], activation=\"tanh\", \n",
    "                              kernel_initializer=tf.keras.initializers.RandomNormal(mean=0.0, stddev=0.1),\n",
    "                              bias_initializer=tf.keras.initializers.Constant(0.5))(x)    \n",
    "        if 1:\n",
    "            x = keras.layers.BatchNormalization(momentum=0.999, #0.999 \n",
    "                epsilon=0.0001, # 1e-4\n",
    "             )(x)\n",
    "        x = keras.layers.Dropout(0.1)(x)\n",
    "    x = keras.layers.Dense(mlayers[-1], activation=\"tanh\", \n",
    "                          kernel_initializer=tf.keras.initializers.RandomNormal(mean=0.0, stddev=0.1),\n",
    "                          bias_initializer=tf.keras.initializers.Constant(0.5))(x)\n",
    "    x = keras.layers.BatchNormalization(momentum=0.999, #0.999 \n",
    "                epsilon=0.0001, # 1e-4\n",
    "             )(x)\n",
    "    output2 = x\n",
    "    \n",
    "    x = inputs\n",
    "    for i in range(1, len(mlayers)-1):\n",
    "        x = keras.layers.Dense(mlayers[i], activation=\"tanh\", \n",
    "                          kernel_initializer=tf.keras.initializers.RandomNormal(mean=0.0, stddev=0.1),\n",
    "                          bias_initializer=tf.keras.initializers.Constant(0.5))(x)   \n",
    "        if 1:\n",
    "            x = keras.layers.BatchNormalization(momentum=0.999, #0.999 \n",
    "                epsilon=0.0001, # 1e-4\n",
    "             )(x)\n",
    "        x = keras.layers.Dropout(0.1)(x)\n",
    "    x = keras.layers.Dense(mlayers[-1], activation=\"tanh\", \n",
    "                          kernel_initializer=tf.keras.initializers.RandomNormal(mean=0.0, stddev=0.1),\n",
    "                          bias_initializer=tf.keras.initializers.Constant(0.5))(x)\n",
    "    x = keras.layers.BatchNormalization(momentum=0.999, #0.999 \n",
    "                epsilon=0.0001, # 1e-4\n",
    "             )(x)\n",
    "    output3 = x\n",
    "        \n",
    "    model = keras.Model([inputs, y1, y2], [output1, output2, output3])\n",
    "    return model, y1, y2, output1, output2, output3"
   ]
  },
  {
   "cell_type": "code",
   "execution_count": 20,
   "id": "23146184",
   "metadata": {},
   "outputs": [],
   "source": [
    "# def training_model():\n",
    "#     inputs = keras.layers.Input(dlayers[0],)\n",
    "    \n",
    "#     y1 = keras.layers.Input(dlayers[-1],)\n",
    "#     y2 = keras.layers.Input(mlayers[-1],)\n",
    "    \n",
    "#     x = inputs\n",
    "#     for i in range(1, len(dlayers)-1):\n",
    "#         x = keras.layers.Dense(dlayers[i], activation=\"tanh\")(x)    \n",
    "#         if 1:\n",
    "#             x = keras.layers.BatchNormalization(momentum=0.99, #0.999 \n",
    "#                 epsilon=0.001, # 1e-4\n",
    "#              )(x)\n",
    "#         x = keras.layers.Dropout(0.1)(x)\n",
    "#     x = keras.layers.Dense(dlayers[-1], activation=\"sigmoid\")(x)\n",
    "#     output1 = x\n",
    "    \n",
    "#     x = inputs\n",
    "#     for i in range(1, len(mlayers)-1):\n",
    "#         x = keras.layers.Dense(mlayers[i], activation=\"tanh\")(x)    \n",
    "#         if 1:\n",
    "#             x = keras.layers.BatchNormalization(momentum=0.99, #0.999 \n",
    "#                 epsilon=0.001, # 1e-4\n",
    "#              )(x)\n",
    "#         x = keras.layers.Dropout(0.1)(x)\n",
    "#     x = keras.layers.Dense(mlayers[-1], activation=\"linear\")(x)\n",
    "#     output2 = x\n",
    "    \n",
    "#     x = inputs\n",
    "#     for i in range(1, len(mlayers)-1):\n",
    "#         x = keras.layers.Dense(mlayers[i], activation=\"tanh\")(x)    \n",
    "#         if 1:\n",
    "#             x = keras.layers.BatchNormalization(momentum=0.99, #0.999 \n",
    "#                 epsilon=0.001, # 1e-4\n",
    "#              )(x)\n",
    "#         x = keras.layers.Dropout(0.1)(x)\n",
    "#     x = keras.layers.Dense(mlayers[-1], activation=\"linear\")(x)\n",
    "#     output3 = x\n",
    "        \n",
    "#     model = keras.Model([inputs, y1, y2], [output1, output2, output3])\n",
    "#     return model, y1, y2, output1, output2, output3"
   ]
  },
  {
   "cell_type": "code",
   "execution_count": 41,
   "id": "06981346",
   "metadata": {},
   "outputs": [],
   "source": [
    "def plot_history(history):\n",
    "    plt.plot(history.history[\"loss\"], label=\"Training Loss\")\n",
    "#     plt.plot(history.history[\"val_loss\"], label=\"Validation Loss\")\n",
    "#     plt.plot(history.history[\"accuracy\"], label=\"Training Accuracy\")\n",
    "#     plt.plot(history.history[\"val_accuracy\"], label=\"Validation Accuracy\")\n",
    "    plt.legend()\n",
    "    plt.xscale('log')\n",
    "#     plt.yscale('log')\n",
    "    plt.grid()\n",
    "    plt.savefig(pargs.output+\"/loss.png\", dpi=150)\n",
    "    plt.show()"
   ]
  },
  {
   "cell_type": "code",
   "execution_count": 22,
   "id": "0a90a27a",
   "metadata": {},
   "outputs": [
    {
     "name": "stdout",
     "output_type": "stream",
     "text": [
      "WARNING:tensorflow:From /usr/local/lib/python3.8/dist-packages/tensorflow/python/keras/layers/normalization.py:534: _colocate_with (from tensorflow.python.framework.ops) is deprecated and will be removed in a future version.\n",
      "Instructions for updating:\n",
      "Colocations handled automatically by placer.\n"
     ]
    },
    {
     "name": "stderr",
     "output_type": "stream",
     "text": [
      "From /usr/local/lib/python3.8/dist-packages/tensorflow/python/keras/layers/normalization.py:534: _colocate_with (from tensorflow.python.framework.ops) is deprecated and will be removed in a future version.\n",
      "Instructions for updating:\n",
      "Colocations handled automatically by placer.\n"
     ]
    }
   ],
   "source": [
    "model, y1, y2, out1, out2, out3 = training_model()"
   ]
  },
  {
   "cell_type": "code",
   "execution_count": 23,
   "id": "9530c4ad",
   "metadata": {},
   "outputs": [
    {
     "name": "stdout",
     "output_type": "stream",
     "text": [
      "Model: \"model\"\n",
      "__________________________________________________________________________________________________\n",
      "Layer (type)                    Output Shape         Param #     Connected to                     \n",
      "==================================================================================================\n",
      "input_2 (InputLayer)            [(None, 27)]         0                                            \n",
      "__________________________________________________________________________________________________\n",
      "dense (Dense)                   (None, 34)           952         input_2[0][0]                    \n",
      "__________________________________________________________________________________________________\n",
      "dense_2 (Dense)                 (None, 34)           952         input_2[0][0]                    \n",
      "__________________________________________________________________________________________________\n",
      "dense_4 (Dense)                 (None, 34)           952         input_2[0][0]                    \n",
      "__________________________________________________________________________________________________\n",
      "batch_normalization (BatchNorma (None, 34)           136         dense[0][0]                      \n",
      "__________________________________________________________________________________________________\n",
      "batch_normalization_2 (BatchNor (None, 34)           136         dense_2[0][0]                    \n",
      "__________________________________________________________________________________________________\n",
      "batch_normalization_4 (BatchNor (None, 34)           136         dense_4[0][0]                    \n",
      "__________________________________________________________________________________________________\n",
      "dropout (Dropout)               (None, 34)           0           batch_normalization[0][0]        \n",
      "__________________________________________________________________________________________________\n",
      "dropout_1 (Dropout)             (None, 34)           0           batch_normalization_2[0][0]      \n",
      "__________________________________________________________________________________________________\n",
      "dropout_2 (Dropout)             (None, 34)           0           batch_normalization_4[0][0]      \n",
      "__________________________________________________________________________________________________\n",
      "dense_1 (Dense)                 (None, 2)            70          dropout[0][0]                    \n",
      "__________________________________________________________________________________________________\n",
      "dense_3 (Dense)                 (None, 2)            70          dropout_1[0][0]                  \n",
      "__________________________________________________________________________________________________\n",
      "dense_5 (Dense)                 (None, 2)            70          dropout_2[0][0]                  \n",
      "__________________________________________________________________________________________________\n",
      "input_3 (InputLayer)            [(None, 2)]          0                                            \n",
      "__________________________________________________________________________________________________\n",
      "input_4 (InputLayer)            [(None, 2)]          0                                            \n",
      "__________________________________________________________________________________________________\n",
      "batch_normalization_1 (BatchNor (None, 2)            8           dense_1[0][0]                    \n",
      "__________________________________________________________________________________________________\n",
      "batch_normalization_3 (BatchNor (None, 2)            8           dense_3[0][0]                    \n",
      "__________________________________________________________________________________________________\n",
      "batch_normalization_5 (BatchNor (None, 2)            8           dense_5[0][0]                    \n",
      "==================================================================================================\n",
      "Total params: 3,498\n",
      "Trainable params: 3,282\n",
      "Non-trainable params: 216\n",
      "__________________________________________________________________________________________________\n"
     ]
    }
   ],
   "source": [
    "model.summary()"
   ]
  },
  {
   "cell_type": "code",
   "execution_count": 24,
   "id": "5e4dce34",
   "metadata": {},
   "outputs": [],
   "source": [
    "loss_detector = tf.reduce_mean(tf.nn.softmax_cross_entropy_with_logits(labels=y1, logits=out1))\n",
    "loss_modifier = tf.nn.l2_loss(out2 - y2)\n",
    "\n",
    "loss_modifier_mve = 0.5*tf.reduce_sum(((out2 - y2)**2)/(out3**2 + 1e-4)) + 0.5*tf.reduce_sum(tf.math.log(out3**2 + 1e-4)) # mean variance estimate\n",
    "\n",
    "loss = loss_detector + loss_modifier\n",
    "model.add_loss(loss)\n",
    "\n",
    "loss_mve = loss_detector + loss_modifier_mve\n",
    "model.add_loss(loss_mve)\n",
    "\n"
   ]
  },
  {
   "cell_type": "code",
   "execution_count": 25,
   "id": "1099c432",
   "metadata": {},
   "outputs": [
    {
     "name": "stdout",
     "output_type": "stream",
     "text": [
      "WARNING:tensorflow:Output batch_normalization_1 missing from loss dictionary. We assume this was done on purpose. The fit and evaluate APIs will not be expecting any data to be passed to batch_normalization_1.\n"
     ]
    },
    {
     "name": "stderr",
     "output_type": "stream",
     "text": [
      "Output batch_normalization_1 missing from loss dictionary. We assume this was done on purpose. The fit and evaluate APIs will not be expecting any data to be passed to batch_normalization_1.\n"
     ]
    },
    {
     "name": "stdout",
     "output_type": "stream",
     "text": [
      "WARNING:tensorflow:Output batch_normalization_3 missing from loss dictionary. We assume this was done on purpose. The fit and evaluate APIs will not be expecting any data to be passed to batch_normalization_3.\n"
     ]
    },
    {
     "name": "stderr",
     "output_type": "stream",
     "text": [
      "Output batch_normalization_3 missing from loss dictionary. We assume this was done on purpose. The fit and evaluate APIs will not be expecting any data to be passed to batch_normalization_3.\n"
     ]
    },
    {
     "name": "stdout",
     "output_type": "stream",
     "text": [
      "WARNING:tensorflow:Output batch_normalization_5 missing from loss dictionary. We assume this was done on purpose. The fit and evaluate APIs will not be expecting any data to be passed to batch_normalization_5.\n"
     ]
    },
    {
     "name": "stderr",
     "output_type": "stream",
     "text": [
      "Output batch_normalization_5 missing from loss dictionary. We assume this was done on purpose. The fit and evaluate APIs will not be expecting any data to be passed to batch_normalization_5.\n"
     ]
    }
   ],
   "source": [
    "opt = keras.optimizers.Adam(learning_rate=1e-4)\n",
    "model.compile(optimizer=opt)"
   ]
  },
  {
   "cell_type": "code",
   "execution_count": 26,
   "id": "c034e507",
   "metadata": {},
   "outputs": [],
   "source": [
    "train_data = data_sets.train.get_data()"
   ]
  },
  {
   "cell_type": "code",
   "execution_count": 27,
   "id": "e5fde6fc",
   "metadata": {},
   "outputs": [
    {
     "data": {
      "text/plain": [
       "{'inputs': array([[-0.07941505,  0.077664  , -0.07941505, ...,  0.39177564,\n",
       "         -0.046332  ,  0.49279848],\n",
       "        [ 0.057789  , -0.01924438,  0.06513016, ..., -0.2021822 ,\n",
       "         -0.02771696,  0.72684264],\n",
       "        [ 0.01190441,  0.04337583,  0.02764046, ...,  0.63358504,\n",
       "          0.21246947,  0.21242516],\n",
       "        ...,\n",
       "        [-0.24329528, -0.30397606, -0.1693283 , ...,  0.49583966,\n",
       "         -0.21350242, -0.28059542],\n",
       "        [ 0.03059999, -0.13627106,  0.04078179, ...,  0.4029603 ,\n",
       "          0.19678886, -0.06360322],\n",
       "        [ 0.01549683, -0.02999161,  0.01071365, ...,  1.006743  ,\n",
       "          0.33750656,  0.2296065 ]], dtype=float32),\n",
       " 'labels': array([[0., 1.],\n",
       "        [1., 0.],\n",
       "        [1., 0.],\n",
       "        ...,\n",
       "        [1., 0.],\n",
       "        [1., 0.],\n",
       "        [1., 0.]]),\n",
       " 'modvel': array([[-0.0217598 ,  0.06765351],\n",
       "        [-0.29834336, -0.06095062],\n",
       "        [ 0.0579272 ,  0.01829549],\n",
       "        ...,\n",
       "        [-0.03954132, -0.00701096],\n",
       "        [ 0.04696498, -0.00453449],\n",
       "        [ 0.6535367 , -1.3851925 ]], dtype=float32)}"
      ]
     },
     "execution_count": 27,
     "metadata": {},
     "output_type": "execute_result"
    }
   ],
   "source": [
    "train_data"
   ]
  },
  {
   "cell_type": "code",
   "execution_count": 28,
   "id": "5418142d",
   "metadata": {},
   "outputs": [],
   "source": [
    "savefreq = [1, 10, 100, 1000, 10000,100000]\n",
    "class CustomSaver(keras.callbacks.Callback):\n",
    "    def on_epoch_end(self, epoch, logs={}):\n",
    "        if epoch in savefreq:  # or save after some epoch, each k-th epoch etc.\n",
    "            self.model.save(pargs.output + \"/model-{}\".format(epoch))\n",
    "        if epoch % 1000 == 0:\n",
    "            print(epoch)"
   ]
  },
  {
   "cell_type": "code",
   "execution_count": 29,
   "id": "0807700e",
   "metadata": {},
   "outputs": [],
   "source": [
    "model_checkpoint_callback = tf.keras.callbacks.ModelCheckpoint(\n",
    "    filepath=pargs.output+\"/model-{epoch:06d}\",\n",
    "    save_weights_only=False, save_freq=100)\n",
    "\n",
    "model_checkpoint_callback = CustomSaver()"
   ]
  },
  {
   "cell_type": "code",
   "execution_count": 30,
   "id": "211e578d",
   "metadata": {
    "scrolled": false
   },
   "outputs": [
    {
     "name": "stdout",
     "output_type": "stream",
     "text": [
      "0\n",
      "1000\n",
      "2000\n",
      "3000\n",
      "4000\n",
      "5000\n",
      "6000\n",
      "7000\n",
      "8000\n",
      "9000\n",
      "10000\n",
      "11000\n",
      "12000\n",
      "13000\n",
      "14000\n",
      "15000\n",
      "16000\n",
      "17000\n",
      "18000\n",
      "19000\n",
      "20000\n",
      "21000\n",
      "22000\n",
      "23000\n",
      "24000\n",
      "25000\n",
      "26000\n",
      "27000\n",
      "28000\n",
      "29000\n",
      "30000\n",
      "31000\n",
      "32000\n",
      "33000\n",
      "34000\n",
      "35000\n",
      "36000\n",
      "37000\n",
      "38000\n",
      "39000\n",
      "40000\n",
      "41000\n",
      "42000\n",
      "43000\n",
      "44000\n",
      "45000\n",
      "46000\n",
      "47000\n",
      "48000\n",
      "49000\n"
     ]
    }
   ],
   "source": [
    "# model.fit(x=[train_data[\"inputs\"], train_data[\"labels\"], train_data[\"modvel\"]/scale[\"modvel\"]], batch_size=pargs.batch, epochs=pargs.steps, verbose=1)\n",
    "history = model.fit(x=[train_data[\"inputs\"], train_data[\"labels\"], train_data[\"modvel\"]/scale[\"modvel\"]], batch_size=pargs.batch, epochs=50000, verbose=0\n",
    "                   ,callbacks=[model_checkpoint_callback]\n",
    "                   )"
   ]
  },
  {
   "cell_type": "code",
   "execution_count": 31,
   "id": "0335ec3a",
   "metadata": {},
   "outputs": [],
   "source": [
    "model.save(pargs.output+'/model')"
   ]
  },
  {
   "cell_type": "code",
   "execution_count": 38,
   "id": "2aafa8ff",
   "metadata": {},
   "outputs": [
    {
     "data": {
      "text/plain": [
       "'models/BigData'"
      ]
     },
     "execution_count": 38,
     "metadata": {},
     "output_type": "execute_result"
    }
   ],
   "source": [
    "pargs.output"
   ]
  },
  {
   "cell_type": "code",
   "execution_count": 42,
   "id": "075a6e12",
   "metadata": {},
   "outputs": [
    {
     "data": {
      "image/png": "[encoded data removed]",
      "text/plain": [
       "<Figure size 432x288 with 1 Axes>"
      ]
     },
     "metadata": {
      "needs_background": "light"
     },
     "output_type": "display_data"
    }
   ],
   "source": [
    "plot_history(history)"
   ]
  },
  {
   "cell_type": "code",
   "execution_count": 34,
   "id": "38fee871",
   "metadata": {},
   "outputs": [],
   "source": [
    "test_data = data_sets.test.get_data()"
   ]
  },
  {
   "cell_type": "code",
   "execution_count": 35,
   "id": "f4d35fe2",
   "metadata": {},
   "outputs": [
    {
     "name": "stderr",
     "output_type": "stream",
     "text": [
      "/usr/local/lib/python3.8/dist-packages/tensorflow/python/keras/engine/training.py:2426: UserWarning: `Model.state_updates` will be removed in a future version. This property should not be used in TensorFlow 2.0, as `updates` are applied automatically.\n",
      "  warnings.warn('`Model.state_updates` will be removed in a future version. '\n"
     ]
    },
    {
     "data": {
      "text/plain": [
       "[array([[ 1.388369  , -1.1463368 ],\n",
       "        [ 0.4111048 ,  1.69881   ],\n",
       "        [-1.3093171 ,  2.389644  ],\n",
       "        ...,\n",
       "        [ 1.2740782 , -0.8489622 ],\n",
       "        [-0.9343266 ,  0.03752747],\n",
       "        [ 0.76702756, -1.4886419 ]], dtype=float32),\n",
       " array([[ 0.00478125, -0.00370002],\n",
       "        [-0.00317574,  0.00876713],\n",
       "        [ 0.00342178,  0.03242493],\n",
       "        ...,\n",
       "        [ 0.00273204,  0.00071621],\n",
       "        [-0.00046802,  0.00342083],\n",
       "        [-0.00230241,  0.00308394]], dtype=float32),\n",
       " array([[ 0.06822606,  0.0256496 ],\n",
       "        [ 0.00322053,  0.01801913],\n",
       "        [-0.03778532,  0.02660342],\n",
       "        ...,\n",
       "        [-0.00730613,  0.03173565],\n",
       "        [ 0.02724083,  0.0148232 ],\n",
       "        [ 0.02270295,  0.00797861]], dtype=float32)]"
      ]
     },
     "execution_count": 35,
     "metadata": {},
     "output_type": "execute_result"
    }
   ],
   "source": [
    "model.predict([test_data[\"inputs\"], test_data[\"labels\"], test_data[\"modvel\"]/scale[\"modvel\"]])"
   ]
  },
  {
   "cell_type": "code",
   "execution_count": 36,
   "id": "fe1783f4",
   "metadata": {},
   "outputs": [],
   "source": [
    "t = model.predict([test_data[\"inputs\"], test_data[\"labels\"], test_data[\"modvel\"]/scale[\"modvel\"]])"
   ]
  },
  {
   "cell_type": "code",
   "execution_count": 37,
   "id": "675fe4c3",
   "metadata": {},
   "outputs": [
    {
     "data": {
      "text/plain": [
       "{'inputs': array([[-6.3650139e-02, -8.7647624e-03,  2.1290779e-04, ...,\n",
       "         -3.7469977e-01, -7.7908933e-02,  8.4747791e-01],\n",
       "        [-7.8646697e-02, -1.3612213e-02, -3.5232849e-02, ...,\n",
       "          3.0571544e-01, -3.0041623e-01, -1.0694542e+00],\n",
       "        [-2.0523977e-01,  9.8442726e-02, -2.0348842e-01, ...,\n",
       "         -3.9645141e-01, -9.4148952e-01,  1.2003066e-01],\n",
       "        ...,\n",
       "        [-1.5683675e-01,  6.7855373e-02, -1.1559739e-01, ...,\n",
       "          6.4370459e-01, -2.2245502e-01, -3.1181240e-01],\n",
       "        [ 3.2171268e-02, -4.6013184e-02,  2.8946895e-02, ...,\n",
       "          2.8716171e-01, -2.9089621e-01,  9.4068661e-02],\n",
       "        [ 1.0252804e-01, -6.5405123e-02,  2.0769395e-02, ...,\n",
       "          6.1626667e-01,  2.1572727e-01,  2.3770747e-01]], dtype=float32),\n",
       " 'labels': array([[1., 0.],\n",
       "        [0., 1.],\n",
       "        [0., 1.],\n",
       "        ...,\n",
       "        [1., 0.],\n",
       "        [1., 0.],\n",
       "        [1., 0.]]),\n",
       " 'modvel': array([[ 0.10984328, -0.0294869 ],\n",
       "        [-0.04972618,  0.09448135],\n",
       "        [-0.06939732,  0.00812058],\n",
       "        ...,\n",
       "        [-0.00143707,  0.204147  ],\n",
       "        [-0.017908  , -0.00428387],\n",
       "        [-0.07422769,  0.04042062]], dtype=float32)}"
      ]
     },
     "execution_count": 37,
     "metadata": {},
     "output_type": "execute_result"
    }
   ],
   "source": [
    "test_data"
   ]
  }
 ],
 "metadata": {
  "kernelspec": {
   "display_name": "Python 3",
   "language": "python",
   "name": "python3"
  },
  "language_info": {
   "codemirror_mode": {
    "name": "ipython",
    "version": 3
   },
   "file_extension": ".py",
   "mimetype": "text/x-python",
   "name": "python",
   "nbconvert_exporter": "python",
   "pygments_lexer": "ipython3",
   "version": "3.8.10"
  }
 },
 "nbformat": 4,
 "nbformat_minor": 5
}
